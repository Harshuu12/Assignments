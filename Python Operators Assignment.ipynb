{
 "cells": [
  {
   "cell_type": "markdown",
   "id": "e6177de1",
   "metadata": {},
   "source": [
    "1. Calculate the sum, difference, product, and quotient of two numbers."
   ]
  },
  {
   "cell_type": "code",
   "execution_count": 1,
   "id": "7b58ed2e",
   "metadata": {},
   "outputs": [
    {
     "name": "stdout",
     "output_type": "stream",
     "text": [
      "Enter first number: 5\n",
      "Enter second number: 3\n",
      "Sum of both the numbers is  8\n",
      "Difference of both the numbers is  2\n",
      "Product of both the numbers is  15\n",
      "Quotient of both the numbers is  1.6666666666666667\n"
     ]
    }
   ],
   "source": [
    "num1 = int(input(\"Enter first number: \"))\n",
    "num2 = int(input(\"Enter second number: \"))\n",
    "\n",
    "print(\"Sum of both the numbers is \", num1+num2)\n",
    "print(\"Difference of both the numbers is \", num1-num2)\n",
    "print(\"Product of both the numbers is \", num1*num2)\n",
    "print(\"Quotient of both the numbers is \", num1/num2)"
   ]
  },
  {
   "cell_type": "markdown",
   "id": "f1a49885",
   "metadata": {},
   "source": [
    "2. Perform various assignment operations on a variable."
   ]
  },
  {
   "cell_type": "code",
   "execution_count": 2,
   "id": "3029c149",
   "metadata": {},
   "outputs": [
    {
     "name": "stdout",
     "output_type": "stream",
     "text": [
      "7\n",
      "10\n",
      "4\n",
      "8\n",
      "2.0\n"
     ]
    }
   ],
   "source": [
    "x = 7 # Assignment operator\n",
    "print(x)\n",
    "\n",
    "x += 3 # Addition Assignment operator\n",
    "print(x)\n",
    "\n",
    "x -= 6 # Subtraction Assignment operator\n",
    "print(x)\n",
    "\n",
    "x *= 2 # Multiplication Assignment operator\n",
    "print(x)\n",
    "\n",
    "x /= 4 # Division Assignment operator\n",
    "print(x)"
   ]
  },
  {
   "cell_type": "markdown",
   "id": "715b3587",
   "metadata": {},
   "source": [
    "3. Compare two numbers and print the results."
   ]
  },
  {
   "cell_type": "code",
   "execution_count": 3,
   "id": "01942fab",
   "metadata": {},
   "outputs": [
    {
     "name": "stdout",
     "output_type": "stream",
     "text": [
      "Enter first number: 6\n",
      "Enter second number: 7\n",
      "First number is either lesser or equal to the second number\n",
      "Both the numbers are not equal\n",
      "First number is lesser than second number\n"
     ]
    }
   ],
   "source": [
    "num1 = int(input(\"Enter first number: \"))\n",
    "num2 = int(input(\"Enter second number: \"))\n",
    "\n",
    "if num1 >= num2:\n",
    "    print(\"First number is either greater or equal to the second number\")\n",
    "else:\n",
    "    print(\"First number is either lesser or equal to the second number\")\n",
    "    \n",
    "if num1 == num2:\n",
    "    print(\"Both the numbers are equal\")\n",
    "else:\n",
    "    print(\"Both the numbers are not equal\")\n",
    "    \n",
    "if num1 > num2:\n",
    "    print(\"First number is greater than second number\")\n",
    "else:\n",
    "    print(\"First number is lesser than second number\")"
   ]
  },
  {
   "cell_type": "markdown",
   "id": "a14e61bc",
   "metadata": {},
   "source": [
    "4. Check conditions using logical operators."
   ]
  },
  {
   "cell_type": "code",
   "execution_count": 4,
   "id": "5a37c9cd",
   "metadata": {},
   "outputs": [
    {
     "name": "stdout",
     "output_type": "stream",
     "text": [
      "Enter first number: 25\n",
      "Enter second number: 15\n",
      "Logical AND operation between both the numbers is 15\n",
      "Logical OR operation between both the numbers is 25\n",
      "Logical NOT operation for the first number is False\n",
      "Logical NOT operation for the second number is False\n"
     ]
    }
   ],
   "source": [
    "num1 = int(input(\"Enter first number: \"))\n",
    "num2 = int(input(\"Enter second number: \"))\n",
    "\n",
    "print(\"Logical AND operation between both the numbers is\", num1 and num2)\n",
    "print(\"Logical OR operation between both the numbers is\", num1 or num2)\n",
    "print(\"Logical NOT operation for the first number is\", not num1)\n",
    "print(\"Logical NOT operation for the second number is\", not num2)"
   ]
  },
  {
   "cell_type": "markdown",
   "id": "cf9f219f",
   "metadata": {},
   "source": [
    "5. Check the identity of variables."
   ]
  },
  {
   "cell_type": "code",
   "execution_count": 5,
   "id": "c8670c60",
   "metadata": {},
   "outputs": [
    {
     "name": "stdout",
     "output_type": "stream",
     "text": [
      "Identity of x: 1778931362224\n",
      "Identity of y: 1778931362224\n",
      "Identity of z: 1778931362224\n",
      "x and y are identical.\n",
      "x and z are identical.\n"
     ]
    }
   ],
   "source": [
    "x = 5\n",
    "y = x\n",
    "z = 5\n",
    "\n",
    "print(\"Identity of x:\", id(x))\n",
    "print(\"Identity of y:\", id(y))\n",
    "print(\"Identity of z:\", id(z))\n",
    "\n",
    "if id(x) == id(y):\n",
    "    print(\"x and y are identical.\")\n",
    "else:\n",
    "    print(\"x and y are not identical.\")\n",
    "\n",
    "if id(x) == id(z):\n",
    "    print(\"x and z are identical.\")\n",
    "else:\n",
    "    print(\"x and z are not identical.\")"
   ]
  },
  {
   "cell_type": "markdown",
   "id": "ba641720",
   "metadata": {},
   "source": [
    "6. Perform bitwise operations on any two integers."
   ]
  },
  {
   "cell_type": "code",
   "execution_count": 6,
   "id": "54cdb9dd",
   "metadata": {},
   "outputs": [
    {
     "name": "stdout",
     "output_type": "stream",
     "text": [
      "Enter first number: 14\n",
      "Enter second number: 35\n",
      "Bitwise AND operation between both the numbers is 2\n",
      "Bitwise OR operation between both the numbers is 47\n",
      "Bitwise NOT operation for the first numbers is -15\n",
      "Bitwise NOT operation for the second numbers is -36\n",
      "Bitwise XOR operation between both the numbers is 45\n",
      "Left Shift the first number by 3 112\n",
      "Left Shift the second number by 3 280\n",
      "Right Shift the first number by 3 1\n",
      "Right Shift the second number by 3 4\n"
     ]
    }
   ],
   "source": [
    "num1 = int(input(\"Enter first number: \"))\n",
    "num2 = int(input(\"Enter second number: \"))\n",
    "\n",
    "print(\"Bitwise AND operation between both the numbers is\", num1 & num2)\n",
    "print(\"Bitwise OR operation between both the numbers is\", num1 | num2)\n",
    "print(\"Bitwise NOT operation for the first numbers is\", ~num1)\n",
    "print(\"Bitwise NOT operation for the second numbers is\", ~num2)\n",
    "print(\"Bitwise XOR operation between both the numbers is\", num1 ^ num2)\n",
    "print(\"Left Shift the first number by 3\", num1 << 3)\n",
    "print(\"Left Shift the second number by 3\", num2 << 3)\n",
    "print(\"Right Shift the first number by 3\", num1 >> 3)\n",
    "print(\"Right Shift the second number by 3\", num2 >> 3)"
   ]
  },
  {
   "cell_type": "markdown",
   "id": "7854ae54",
   "metadata": {},
   "source": [
    "7. Use unary operators to change the sign of a number."
   ]
  },
  {
   "cell_type": "code",
   "execution_count": 7,
   "id": "633bd7dd",
   "metadata": {},
   "outputs": [
    {
     "name": "stdout",
     "output_type": "stream",
     "text": [
      "Enter a number: 6\n",
      "-7\n"
     ]
    }
   ],
   "source": [
    "# Sign of a number changes when performing bitwise NOT operation but the value also changes, incremented by 1\n",
    "x = int(input(\"Enter a number: \"))\n",
    "print(~x)"
   ]
  },
  {
   "cell_type": "markdown",
   "id": "c97b6392",
   "metadata": {},
   "source": [
    "8. Use the ternary operator to assign values based on conditions."
   ]
  },
  {
   "cell_type": "code",
   "execution_count": 8,
   "id": "7ab7d249",
   "metadata": {},
   "outputs": [
    {
     "name": "stdout",
     "output_type": "stream",
     "text": [
      "34\n",
      "100\n"
     ]
    }
   ],
   "source": [
    "a = 34\n",
    "print(a)\n",
    "a = 100 if a<100 else 200\n",
    "print(a)"
   ]
  },
  {
   "cell_type": "code",
   "execution_count": 9,
   "id": "59f0fbb8",
   "metadata": {},
   "outputs": [
    {
     "name": "stdout",
     "output_type": "stream",
     "text": [
      "125\n",
      "200\n"
     ]
    }
   ],
   "source": [
    "a = 125\n",
    "print(a)\n",
    "a = 100 if a<100 else 200\n",
    "print(a)"
   ]
  }
 ],
 "metadata": {
  "kernelspec": {
   "display_name": "Python 3 (ipykernel)",
   "language": "python",
   "name": "python3"
  },
  "language_info": {
   "codemirror_mode": {
    "name": "ipython",
    "version": 3
   },
   "file_extension": ".py",
   "mimetype": "text/x-python",
   "name": "python",
   "nbconvert_exporter": "python",
   "pygments_lexer": "ipython3",
   "version": "3.9.7"
  }
 },
 "nbformat": 4,
 "nbformat_minor": 5
}
