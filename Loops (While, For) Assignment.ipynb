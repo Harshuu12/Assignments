{
 "cells": [
  {
   "cell_type": "markdown",
   "id": "32fc971d",
   "metadata": {},
   "source": [
    "1. Print numbers from 1 to 5 using a while loop."
   ]
  },
  {
   "cell_type": "code",
   "execution_count": 1,
   "id": "ea276361",
   "metadata": {},
   "outputs": [
    {
     "name": "stdout",
     "output_type": "stream",
     "text": [
      "1\n",
      "2\n",
      "3\n",
      "4\n",
      "5\n"
     ]
    }
   ],
   "source": [
    "x = 1\n",
    "while x<6:\n",
    "    print(x)\n",
    "    x = x+1"
   ]
  },
  {
   "cell_type": "markdown",
   "id": "78a1d4fe",
   "metadata": {},
   "source": [
    "2. Calculate the sum of numbers from 1 to 10 using a while loop."
   ]
  },
  {
   "cell_type": "code",
   "execution_count": 2,
   "id": "3ae1329a",
   "metadata": {},
   "outputs": [
    {
     "name": "stdout",
     "output_type": "stream",
     "text": [
      "Sum of numbers from 1 to 10 is 55\n"
     ]
    }
   ],
   "source": [
    "x = 1\n",
    "y = 0\n",
    "while x<11:\n",
    "    y = y+x\n",
    "    x = x+1\n",
    "print(\"Sum of numbers from 1 to 10 is\", y)"
   ]
  },
  {
   "cell_type": "markdown",
   "id": "ff52da93",
   "metadata": {},
   "source": [
    "3. Calculate the factorial of a number using a for loop."
   ]
  },
  {
   "cell_type": "code",
   "execution_count": 3,
   "id": "0ca5264c",
   "metadata": {},
   "outputs": [
    {
     "name": "stdout",
     "output_type": "stream",
     "text": [
      "Enter a number: 5\n",
      "Factorial of a given number is 120\n"
     ]
    }
   ],
   "source": [
    "x = int(input(\"Enter a number: \"))\n",
    "y = 1\n",
    "for i in range(y, x+1):\n",
    "    y = y*i\n",
    "print(\"Factorial of a given number is\", y)"
   ]
  },
  {
   "cell_type": "markdown",
   "id": "20444632",
   "metadata": {},
   "source": [
    "4. Count the number of vowels in a string using a for loop."
   ]
  },
  {
   "cell_type": "code",
   "execution_count": 4,
   "id": "ed89784a",
   "metadata": {},
   "outputs": [
    {
     "name": "stdout",
     "output_type": "stream",
     "text": [
      "The number of vowels in a given string are 5\n"
     ]
    }
   ],
   "source": [
    "my_string = \"auhdbcbaue\"\n",
    "a = my_string.count(\"a\")\n",
    "e = my_string.count(\"e\")\n",
    "i = my_string.count(\"i\")\n",
    "o = my_string.count(\"o\")\n",
    "u = my_string.count(\"u\")\n",
    "print(\"The number of vowels in a given string are\", a+e+i+o+u)"
   ]
  },
  {
   "cell_type": "markdown",
   "id": "6232171b",
   "metadata": {},
   "source": [
    "5. Print a pattern using nested loops."
   ]
  },
  {
   "cell_type": "code",
   "execution_count": 5,
   "id": "4707ae4e",
   "metadata": {},
   "outputs": [
    {
     "name": "stdout",
     "output_type": "stream",
     "text": [
      "*\n",
      "**\n",
      "***\n",
      "****\n"
     ]
    }
   ],
   "source": [
    "row = 1\n",
    "while row <= 4:\n",
    "    column = 1\n",
    "    while column <= row:\n",
    "        print(\"*\", end = \"\")\n",
    "        column += 1\n",
    "    print()\n",
    "    row += 1"
   ]
  },
  {
   "cell_type": "markdown",
   "id": "59821897",
   "metadata": {},
   "source": [
    "6. Generate a multiplication table using nested loops."
   ]
  },
  {
   "cell_type": "code",
   "execution_count": 6,
   "id": "7b9100a4",
   "metadata": {},
   "outputs": [
    {
     "name": "stdout",
     "output_type": "stream",
     "text": [
      "Enter a number: 6\n",
      "6 * 1 = 6\n",
      "6 * 2 = 12\n",
      "6 * 3 = 18\n",
      "6 * 4 = 24\n",
      "6 * 5 = 30\n",
      "6 * 6 = 36\n",
      "6 * 7 = 42\n",
      "6 * 8 = 48\n",
      "6 * 9 = 54\n",
      "6 * 10 = 60\n"
     ]
    }
   ],
   "source": [
    "x = int(input(\"Enter a number: \"))\n",
    "for i in range(1, 11):\n",
    "    print(x, \"*\", i, \"=\", x*i)"
   ]
  }
 ],
 "metadata": {
  "kernelspec": {
   "display_name": "Python 3 (ipykernel)",
   "language": "python",
   "name": "python3"
  },
  "language_info": {
   "codemirror_mode": {
    "name": "ipython",
    "version": 3
   },
   "file_extension": ".py",
   "mimetype": "text/x-python",
   "name": "python",
   "nbconvert_exporter": "python",
   "pygments_lexer": "ipython3",
   "version": "3.9.7"
  }
 },
 "nbformat": 4,
 "nbformat_minor": 5
}
