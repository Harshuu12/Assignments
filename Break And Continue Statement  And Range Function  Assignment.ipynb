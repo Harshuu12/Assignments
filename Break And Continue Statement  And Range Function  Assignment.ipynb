{
 "cells": [
  {
   "cell_type": "markdown",
   "id": "66499dd6",
   "metadata": {},
   "source": [
    "1. Write a program to print numbers from 1 to 10, but stop if the number is 5."
   ]
  },
  {
   "cell_type": "code",
   "execution_count": 1,
   "id": "7d12e382",
   "metadata": {},
   "outputs": [
    {
     "name": "stdout",
     "output_type": "stream",
     "text": [
      "1\n",
      "2\n",
      "3\n",
      "4\n",
      "5\n"
     ]
    }
   ],
   "source": [
    "x = 1\n",
    "while x<11:\n",
    "    print(x)\n",
    "    if x == 5:\n",
    "        break\n",
    "    x = x+1"
   ]
  },
  {
   "cell_type": "markdown",
   "id": "8485f309",
   "metadata": {},
   "source": [
    "2. Write a program to iterate through a list and stop when encountering a specific element."
   ]
  },
  {
   "cell_type": "code",
   "execution_count": 2,
   "id": "52756eb2",
   "metadata": {},
   "outputs": [
    {
     "name": "stdout",
     "output_type": "stream",
     "text": [
      "Harsh\n",
      "34.8\n",
      "48\n",
      "True\n",
      "pwskills\n"
     ]
    }
   ],
   "source": [
    "my_list = [\"Harsh\", 34.8, 48, True, \"pwskills\", 4+8j]\n",
    "\n",
    "for i in my_list:\n",
    "    print(i)\n",
    "    if i == \"pwskills\":\n",
    "        break"
   ]
  },
  {
   "cell_type": "markdown",
   "id": "79d46b82",
   "metadata": {},
   "source": [
    "3. Write a program to skip printing even numbers from 1 to 10."
   ]
  },
  {
   "cell_type": "code",
   "execution_count": 3,
   "id": "24cd7b71",
   "metadata": {},
   "outputs": [
    {
     "name": "stdout",
     "output_type": "stream",
     "text": [
      "1\n",
      "3\n",
      "5\n",
      "7\n",
      "9\n"
     ]
    }
   ],
   "source": [
    "for i in range(1, 11, 2):\n",
    "    print(i)"
   ]
  },
  {
   "cell_type": "markdown",
   "id": "2a459cab",
   "metadata": {},
   "source": [
    "4. Write a program to print numbers from 0 to 9 using range()."
   ]
  },
  {
   "cell_type": "code",
   "execution_count": 4,
   "id": "3b34820a",
   "metadata": {},
   "outputs": [
    {
     "name": "stdout",
     "output_type": "stream",
     "text": [
      "0\n",
      "1\n",
      "2\n",
      "3\n",
      "4\n",
      "5\n",
      "6\n",
      "7\n",
      "8\n",
      "9\n"
     ]
    }
   ],
   "source": [
    "for i in range(10):\n",
    "    print(i)"
   ]
  },
  {
   "cell_type": "markdown",
   "id": "792c6a7a",
   "metadata": {},
   "source": [
    "5. Write a program to print multiplication tables from 1 to 5, but stop after the first table is printed for each number."
   ]
  },
  {
   "cell_type": "code",
   "execution_count": 5,
   "id": "9377d37c",
   "metadata": {},
   "outputs": [
    {
     "name": "stdout",
     "output_type": "stream",
     "text": [
      "1 * 1 = 1\n",
      "1 * 2 = 2\n",
      "1 * 3 = 3\n",
      "1 * 4 = 4\n",
      "1 * 5 = 5\n"
     ]
    }
   ],
   "source": [
    "x = 1\n",
    "for i in range(1, 11):\n",
    "    print(x, \"*\", i, \"=\", x*i)\n",
    "    if i == 5:\n",
    "        break"
   ]
  },
  {
   "cell_type": "markdown",
   "id": "d408e7e5",
   "metadata": {},
   "source": [
    "6. Write a program to skip printing even numbers using a while loop."
   ]
  },
  {
   "cell_type": "code",
   "execution_count": 6,
   "id": "364b0cd0",
   "metadata": {},
   "outputs": [
    {
     "name": "stdout",
     "output_type": "stream",
     "text": [
      "Enter the range: 15\n",
      "1\n",
      "3\n",
      "5\n",
      "7\n",
      "9\n",
      "11\n",
      "13\n",
      "15\n"
     ]
    }
   ],
   "source": [
    "x = 0\n",
    "y = int(input(\"Enter the range: \"))\n",
    "while x <= y:\n",
    "    x += 1\n",
    "    if (x%2) == 0:\n",
    "        continue\n",
    "    print(x)"
   ]
  }
 ],
 "metadata": {
  "kernelspec": {
   "display_name": "Python 3 (ipykernel)",
   "language": "python",
   "name": "python3"
  },
  "language_info": {
   "codemirror_mode": {
    "name": "ipython",
    "version": 3
   },
   "file_extension": ".py",
   "mimetype": "text/x-python",
   "name": "python",
   "nbconvert_exporter": "python",
   "pygments_lexer": "ipython3",
   "version": "3.9.7"
  }
 },
 "nbformat": 4,
 "nbformat_minor": 5
}
