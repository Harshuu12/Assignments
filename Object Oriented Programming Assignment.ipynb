{
 "cells": [
  {
   "cell_type": "markdown",
   "id": "e13753b2",
   "metadata": {},
   "source": [
    "1. Explain the importance of Functions."
   ]
  },
  {
   "cell_type": "markdown",
   "id": "b1755f26",
   "metadata": {},
   "source": [
    "Functions play a crucial role in programming due to their significance in code organization, reusability, abstraction, and modularity.\n",
    "\n",
    "Modularity and Code Organization: Functions allow you to break down a complex program into smaller, manageable, and modular components. Each function can perform a specific task, making the code easier to understand, maintain, and debug. By organizing code into functions, you can achieve better code structure and readability.\n",
    "\n",
    "Reusability: Functions enable code reuse, which reduces redundancy and promotes efficiency. Once you define a function to perform a particular task, you can call that function multiple times throughout your program without needing to rewrite the same code. This saves time, effort, and promotes the DRY (Don't Repeat Yourself) principle.\n",
    "\n",
    "Abstraction: Functions provide a level of abstraction by hiding implementation details and exposing only the necessary interface. Users of a function don't need to know how the function accomplishes its task internally; they only need to know what the function does and how to use it. This abstraction simplifies code consumption and promotes encapsulation.\n",
    "\n",
    "Encapsulation: Functions encapsulate a specific piece of functionality, allowing you to isolate and manage different parts of your program independently. Each function operates within its own scope, preventing variable name clashes and unintended side effects. Encapsulation enhances code maintainability and reduces the risk of errors.\n",
    "\n",
    "Readability and Understandability: Well-designed functions with descriptive names and clear documentation enhance code readability and understandability. Functions serve as building blocks with meaningful names, making it easier for developers to grasp the purpose and behavior of different parts of the program.\n",
    "\n",
    "Testing and Debugging: Functions facilitate testing and debugging by allowing you to isolate and test individual components of your code independently. You can write unit tests for functions to verify their correctness and handle errors more effectively. Debugging becomes more manageable when functions are well-structured and modular.\n",
    "\n",
    "Scalability and Extensibility: Functions enable scalable and extensible code by providing a foundation for adding new features and functionality. You can extend the capabilities of your program by defining new functions or modifying existing ones without affecting other parts of the codebase. This flexibility supports long-term maintenance and evolution of the software."
   ]
  },
  {
   "cell_type": "markdown",
   "id": "ae5cbfa4",
   "metadata": {},
   "source": [
    "2. Write a basic function to greet students."
   ]
  },
  {
   "cell_type": "code",
   "execution_count": 1,
   "id": "3d0dea68",
   "metadata": {},
   "outputs": [
    {
     "name": "stdout",
     "output_type": "stream",
     "text": [
      "Hello Welcome to the course Harsh\n"
     ]
    }
   ],
   "source": [
    "def greet(name):\n",
    "    print(\"Hello Welcome to the course\", name)\n",
    "greet(\"Harsh\")"
   ]
  },
  {
   "cell_type": "markdown",
   "id": "6760ab4f",
   "metadata": {},
   "source": [
    "3. What is the difference between print and return statements?"
   ]
  },
  {
   "cell_type": "markdown",
   "id": "c86687d3",
   "metadata": {},
   "source": [
    "The print() statement is used to display output to the console, whereas the return statement is used to exit a function and return a value to the caller. print() is primarily for displaying information to the user, while return is for passing data back to the calling code."
   ]
  },
  {
   "cell_type": "markdown",
   "id": "12ad3201",
   "metadata": {},
   "source": [
    "4. What are *args and **kwargs?"
   ]
  },
  {
   "cell_type": "markdown",
   "id": "78ebd107",
   "metadata": {},
   "source": [
    "*args:\n",
    "\n",
    "The *args parameter in a function definition allows you to pass a variable number of positional arguments to the function.\n",
    "It collects all the positional arguments passed to the function into a tuple.\n",
    "The * (asterisk) before args indicates that it should accept any number of positional arguments.\n",
    "You can access these arguments using index notation within the function.\n",
    "\n",
    "**kwargs:\n",
    "\n",
    "The **kwargs parameter in a function definition allows you to pass a variable number of keyword arguments (or named arguments) to the function.\n",
    "It collects all the keyword arguments passed to the function into a dictionary, where the keys are the argument names and the values are the corresponding argument values.\n",
    "The ** (double asterisks) before kwargs indicates that it should accept any number of keyword arguments.\n",
    "You can access these arguments by their names within the function."
   ]
  },
  {
   "cell_type": "markdown",
   "id": "2492507e",
   "metadata": {},
   "source": [
    "5. Explain the iterator function."
   ]
  },
  {
   "cell_type": "markdown",
   "id": "8f07181b",
   "metadata": {},
   "source": [
    "In Python, the iter() function is used to create an iterator object from an iterable object. An iterator is an object that implements the iterator protocol, which consists of two methods: __iter__() and __next__(). Iterators are used to traverse sequences of data, one element at a time, without needing to know the underlying implementation details of the data structure.\n",
    "\n",
    "Here's how the iter() function works:\n",
    "\n",
    "When called with an iterable object (such as a list, tuple, string, or dictionary), the iter() function returns an iterator object that can be used to iterate over the elements of the iterable.\n",
    "\n",
    "The __iter__() method of the iterator object returns the iterator object itself. This method is called when you use the iter() function.\n",
    "\n",
    "The __next__() method of the iterator object returns the next element from the underlying sequence each time it's called. When there are no more elements to return, it raises a StopIteration exception."
   ]
  },
  {
   "cell_type": "markdown",
   "id": "d6a0f25a",
   "metadata": {},
   "source": [
    "6. Write a code that generates the squares of numbers from 1 to n using a generator."
   ]
  },
  {
   "cell_type": "code",
   "execution_count": 2,
   "id": "db8139e4",
   "metadata": {},
   "outputs": [],
   "source": [
    "def squares_generator(n):\n",
    "    for i in range(n):\n",
    "        yield i**2"
   ]
  },
  {
   "cell_type": "code",
   "execution_count": 3,
   "id": "0de4bed5",
   "metadata": {},
   "outputs": [],
   "source": [
    "squares = squares_generator(5)"
   ]
  },
  {
   "cell_type": "code",
   "execution_count": 4,
   "id": "7cdf3703",
   "metadata": {},
   "outputs": [
    {
     "data": {
      "text/plain": [
       "0"
      ]
     },
     "execution_count": 4,
     "metadata": {},
     "output_type": "execute_result"
    }
   ],
   "source": [
    "next(squares)"
   ]
  },
  {
   "cell_type": "code",
   "execution_count": 5,
   "id": "c8949799",
   "metadata": {},
   "outputs": [
    {
     "data": {
      "text/plain": [
       "1"
      ]
     },
     "execution_count": 5,
     "metadata": {},
     "output_type": "execute_result"
    }
   ],
   "source": [
    "next(squares)"
   ]
  },
  {
   "cell_type": "code",
   "execution_count": 6,
   "id": "b1ee8e72",
   "metadata": {},
   "outputs": [
    {
     "data": {
      "text/plain": [
       "4"
      ]
     },
     "execution_count": 6,
     "metadata": {},
     "output_type": "execute_result"
    }
   ],
   "source": [
    "next(squares)"
   ]
  },
  {
   "cell_type": "code",
   "execution_count": 7,
   "id": "b790c031",
   "metadata": {},
   "outputs": [
    {
     "data": {
      "text/plain": [
       "9"
      ]
     },
     "execution_count": 7,
     "metadata": {},
     "output_type": "execute_result"
    }
   ],
   "source": [
    "next(squares)"
   ]
  },
  {
   "cell_type": "code",
   "execution_count": 8,
   "id": "4d3e8fff",
   "metadata": {},
   "outputs": [
    {
     "data": {
      "text/plain": [
       "16"
      ]
     },
     "execution_count": 8,
     "metadata": {},
     "output_type": "execute_result"
    }
   ],
   "source": [
    "next(squares)"
   ]
  },
  {
   "cell_type": "markdown",
   "id": "e96badda",
   "metadata": {},
   "source": [
    "7. Write a code that generates palindromic numbers up to n using a generator."
   ]
  },
  {
   "cell_type": "code",
   "execution_count": 9,
   "id": "2a1a8429",
   "metadata": {},
   "outputs": [
    {
     "name": "stdout",
     "output_type": "stream",
     "text": [
      "Palindromic numbers up to 100:\n",
      "1 2 3 4 5 6 7 8 9 11 22 33 44 55 66 77 88 99 "
     ]
    }
   ],
   "source": [
    "def generate_palindromic_numbers(n):\n",
    "    \"\"\"\n",
    "    Generator function to generate palindromic numbers up to n.\n",
    "    \"\"\"\n",
    "    for num in range(1, n + 1):\n",
    "        if str(num) == str(num)[::-1]:\n",
    "            yield num\n",
    "\n",
    "n = 100\n",
    "palindromic_numbers = generate_palindromic_numbers(n)\n",
    "\n",
    "print(f\"Palindromic numbers up to {n}:\")\n",
    "for num in palindromic_numbers:\n",
    "    print(num, end=\" \")"
   ]
  },
  {
   "cell_type": "markdown",
   "id": "4ec1bf66",
   "metadata": {},
   "source": [
    "8. Write a code that generates even numbers from 2 to n using a generator."
   ]
  },
  {
   "cell_type": "code",
   "execution_count": 10,
   "id": "9f4e17d8",
   "metadata": {},
   "outputs": [],
   "source": [
    "def even_no_generator(n):\n",
    "    for i in range(2, n):\n",
    "        if i%2 == 0:\n",
    "            yield i"
   ]
  },
  {
   "cell_type": "code",
   "execution_count": 11,
   "id": "af2e8eda",
   "metadata": {},
   "outputs": [],
   "source": [
    "even = even_no_generator(11)"
   ]
  },
  {
   "cell_type": "code",
   "execution_count": 12,
   "id": "2a88b715",
   "metadata": {},
   "outputs": [
    {
     "data": {
      "text/plain": [
       "2"
      ]
     },
     "execution_count": 12,
     "metadata": {},
     "output_type": "execute_result"
    }
   ],
   "source": [
    "next(even)"
   ]
  },
  {
   "cell_type": "code",
   "execution_count": 13,
   "id": "a9c91db1",
   "metadata": {},
   "outputs": [
    {
     "data": {
      "text/plain": [
       "4"
      ]
     },
     "execution_count": 13,
     "metadata": {},
     "output_type": "execute_result"
    }
   ],
   "source": [
    "next(even)"
   ]
  },
  {
   "cell_type": "code",
   "execution_count": 14,
   "id": "ba79e344",
   "metadata": {},
   "outputs": [
    {
     "data": {
      "text/plain": [
       "6"
      ]
     },
     "execution_count": 14,
     "metadata": {},
     "output_type": "execute_result"
    }
   ],
   "source": [
    "next(even)"
   ]
  },
  {
   "cell_type": "code",
   "execution_count": 15,
   "id": "fac81c0f",
   "metadata": {},
   "outputs": [
    {
     "data": {
      "text/plain": [
       "8"
      ]
     },
     "execution_count": 15,
     "metadata": {},
     "output_type": "execute_result"
    }
   ],
   "source": [
    "next(even)"
   ]
  },
  {
   "cell_type": "code",
   "execution_count": 16,
   "id": "1f2b39d9",
   "metadata": {},
   "outputs": [
    {
     "data": {
      "text/plain": [
       "10"
      ]
     },
     "execution_count": 16,
     "metadata": {},
     "output_type": "execute_result"
    }
   ],
   "source": [
    "next(even)"
   ]
  },
  {
   "cell_type": "markdown",
   "id": "18356cc9",
   "metadata": {},
   "source": [
    "9. Write a code that generates even numbers from 2 to n using a generator."
   ]
  },
  {
   "cell_type": "code",
   "execution_count": 17,
   "id": "5c6f53d5",
   "metadata": {},
   "outputs": [],
   "source": [
    "# Same as question number 8."
   ]
  },
  {
   "cell_type": "markdown",
   "id": "045c4c1f",
   "metadata": {},
   "source": [
    "10. Write a code that generates prime numbers up to n using a generator."
   ]
  },
  {
   "cell_type": "code",
   "execution_count": 18,
   "id": "58cd939f",
   "metadata": {},
   "outputs": [
    {
     "name": "stdout",
     "output_type": "stream",
     "text": [
      "Prime numbers up to 100:\n",
      "2 3 5 7 11 13 17 19 23 29 31 37 41 43 47 53 59 61 67 71 73 79 83 89 97 "
     ]
    }
   ],
   "source": [
    "def is_prime(num):\n",
    "    \"\"\"\n",
    "    Function to check if a number is prime.\n",
    "    \"\"\"\n",
    "    if num <= 1:\n",
    "        return False\n",
    "    if num <= 3:\n",
    "        return True\n",
    "    if num % 2 == 0 or num % 3 == 0:\n",
    "        return False\n",
    "    i = 5\n",
    "    while i * i <= num:\n",
    "        if num % i == 0 or num % (i + 2) == 0:\n",
    "            return False\n",
    "        i += 6\n",
    "    return True\n",
    "\n",
    "def generate_primes(n):\n",
    "    \"\"\"\n",
    "    Generator function to generate prime numbers up to n.\n",
    "    \"\"\"\n",
    "    for num in range(2, n + 1):\n",
    "        if is_prime(num):\n",
    "            yield num\n",
    "\n",
    "n = 100\n",
    "prime_numbers = generate_primes(n)\n",
    "\n",
    "print(f\"Prime numbers up to {n}:\")\n",
    "for num in prime_numbers:\n",
    "    print(num, end=\" \")"
   ]
  },
  {
   "cell_type": "markdown",
   "id": "d664be3c",
   "metadata": {},
   "source": [
    "11. Write a code that uses a lambda function to calculate the sum of two numbers."
   ]
  },
  {
   "cell_type": "code",
   "execution_count": 19,
   "id": "abb5a376",
   "metadata": {},
   "outputs": [],
   "source": [
    "add = lambda x, y: x+y"
   ]
  },
  {
   "cell_type": "code",
   "execution_count": 20,
   "id": "9d4ef1fe",
   "metadata": {},
   "outputs": [
    {
     "data": {
      "text/plain": [
       "5"
      ]
     },
     "execution_count": 20,
     "metadata": {},
     "output_type": "execute_result"
    }
   ],
   "source": [
    "add(2, 3)"
   ]
  },
  {
   "cell_type": "code",
   "execution_count": 21,
   "id": "2e76132e",
   "metadata": {},
   "outputs": [
    {
     "data": {
      "text/plain": [
       "37"
      ]
     },
     "execution_count": 21,
     "metadata": {},
     "output_type": "execute_result"
    }
   ],
   "source": [
    "add(15, 22)"
   ]
  },
  {
   "cell_type": "markdown",
   "id": "6933ff9f",
   "metadata": {},
   "source": [
    "12. Write a code that uses a lambda function to calculate the square of a given number."
   ]
  },
  {
   "cell_type": "code",
   "execution_count": 22,
   "id": "74b36b7e",
   "metadata": {},
   "outputs": [],
   "source": [
    "sq = lambda x: x**2"
   ]
  },
  {
   "cell_type": "code",
   "execution_count": 23,
   "id": "c4949557",
   "metadata": {},
   "outputs": [
    {
     "data": {
      "text/plain": [
       "25"
      ]
     },
     "execution_count": 23,
     "metadata": {},
     "output_type": "execute_result"
    }
   ],
   "source": [
    "sq(5)"
   ]
  },
  {
   "cell_type": "code",
   "execution_count": 24,
   "id": "0bc73004",
   "metadata": {},
   "outputs": [
    {
     "data": {
      "text/plain": [
       "49"
      ]
     },
     "execution_count": 24,
     "metadata": {},
     "output_type": "execute_result"
    }
   ],
   "source": [
    "sq(7)"
   ]
  },
  {
   "cell_type": "markdown",
   "id": "be110f5f",
   "metadata": {},
   "source": [
    "13. Write a code that uses a lambda function to check whether a given number is even or odd."
   ]
  },
  {
   "cell_type": "code",
   "execution_count": 25,
   "id": "e4bcafc1",
   "metadata": {},
   "outputs": [],
   "source": [
    "num = lambda x: True if x%2 == 0 else False"
   ]
  },
  {
   "cell_type": "code",
   "execution_count": 26,
   "id": "373134da",
   "metadata": {},
   "outputs": [
    {
     "data": {
      "text/plain": [
       "True"
      ]
     },
     "execution_count": 26,
     "metadata": {},
     "output_type": "execute_result"
    }
   ],
   "source": [
    "num(2)"
   ]
  },
  {
   "cell_type": "code",
   "execution_count": 27,
   "id": "5b7c3af6",
   "metadata": {},
   "outputs": [
    {
     "data": {
      "text/plain": [
       "False"
      ]
     },
     "execution_count": 27,
     "metadata": {},
     "output_type": "execute_result"
    }
   ],
   "source": [
    "num(3)"
   ]
  },
  {
   "cell_type": "code",
   "execution_count": 28,
   "id": "148651c8",
   "metadata": {},
   "outputs": [
    {
     "data": {
      "text/plain": [
       "True"
      ]
     },
     "execution_count": 28,
     "metadata": {},
     "output_type": "execute_result"
    }
   ],
   "source": [
    "num(66)"
   ]
  },
  {
   "cell_type": "code",
   "execution_count": 29,
   "id": "98538df3",
   "metadata": {},
   "outputs": [
    {
     "data": {
      "text/plain": [
       "False"
      ]
     },
     "execution_count": 29,
     "metadata": {},
     "output_type": "execute_result"
    }
   ],
   "source": [
    "num(91)"
   ]
  },
  {
   "cell_type": "markdown",
   "id": "fd5cdbee",
   "metadata": {},
   "source": [
    "14. Write a code that uses a lambda function to concatenate two strings."
   ]
  },
  {
   "cell_type": "code",
   "execution_count": 30,
   "id": "872755cc",
   "metadata": {},
   "outputs": [],
   "source": [
    "conc = lambda x, y: x+y"
   ]
  },
  {
   "cell_type": "code",
   "execution_count": 31,
   "id": "7d580330",
   "metadata": {},
   "outputs": [
    {
     "data": {
      "text/plain": [
       "'HarshAgrawal'"
      ]
     },
     "execution_count": 31,
     "metadata": {},
     "output_type": "execute_result"
    }
   ],
   "source": [
    "conc(\"Harsh\", \"Agrawal\")"
   ]
  },
  {
   "cell_type": "code",
   "execution_count": 32,
   "id": "56502624",
   "metadata": {},
   "outputs": [
    {
     "data": {
      "text/plain": [
       "'PWSKILLS'"
      ]
     },
     "execution_count": 32,
     "metadata": {},
     "output_type": "execute_result"
    }
   ],
   "source": [
    "conc(\"PW\", \"SKILLS\")"
   ]
  },
  {
   "cell_type": "markdown",
   "id": "a6813ec8",
   "metadata": {},
   "source": [
    "15. Write a code that uses a lambda function to find the maximum of three given numbers."
   ]
  },
  {
   "cell_type": "code",
   "execution_count": 33,
   "id": "485e5d68",
   "metadata": {},
   "outputs": [],
   "source": [
    "max_three = lambda x, y, z: x if (x>=y and x>=z) else (y if (x<=y and y>=z) else z)"
   ]
  },
  {
   "cell_type": "code",
   "execution_count": 34,
   "id": "eead46d3",
   "metadata": {},
   "outputs": [
    {
     "data": {
      "text/plain": [
       "4"
      ]
     },
     "execution_count": 34,
     "metadata": {},
     "output_type": "execute_result"
    }
   ],
   "source": [
    "max_three(2, 3, 4)"
   ]
  },
  {
   "cell_type": "code",
   "execution_count": 35,
   "id": "7348e648",
   "metadata": {},
   "outputs": [
    {
     "data": {
      "text/plain": [
       "15"
      ]
     },
     "execution_count": 35,
     "metadata": {},
     "output_type": "execute_result"
    }
   ],
   "source": [
    "max_three(15, 11, 4)"
   ]
  },
  {
   "cell_type": "code",
   "execution_count": 36,
   "id": "31ad99a6",
   "metadata": {},
   "outputs": [
    {
     "data": {
      "text/plain": [
       "16"
      ]
     },
     "execution_count": 36,
     "metadata": {},
     "output_type": "execute_result"
    }
   ],
   "source": [
    "max_three(5, 16, 10)"
   ]
  },
  {
   "cell_type": "markdown",
   "id": "d6609493",
   "metadata": {},
   "source": [
    "16. Write a code that generates the squares of even numbers from a given list."
   ]
  },
  {
   "cell_type": "code",
   "execution_count": 37,
   "id": "d784fe5f",
   "metadata": {},
   "outputs": [
    {
     "data": {
      "text/plain": [
       "[4, 16, 36]"
      ]
     },
     "execution_count": 37,
     "metadata": {},
     "output_type": "execute_result"
    }
   ],
   "source": [
    "l = [1, 2, 3, 4, 5, 6]\n",
    "def sq_even(a):\n",
    "    even = []\n",
    "    for i in a:\n",
    "        if i%2 == 0:\n",
    "            even.append(i**2)\n",
    "    return even\n",
    "sq_even(l)"
   ]
  },
  {
   "cell_type": "markdown",
   "id": "a86ae4b6",
   "metadata": {},
   "source": [
    "17. Write a code that calculates the product of positive numbers from a given list."
   ]
  },
  {
   "cell_type": "code",
   "execution_count": 38,
   "id": "e22f6349",
   "metadata": {},
   "outputs": [
    {
     "data": {
      "text/plain": [
       "(672, [2, 6, 7, 8])"
      ]
     },
     "execution_count": 38,
     "metadata": {},
     "output_type": "execute_result"
    }
   ],
   "source": [
    "l = [-4, -5, -7, 2, 6, 7, -9, 8]\n",
    "def positive_product(a):\n",
    "    pro = []\n",
    "    for i in a:\n",
    "        if i>0:\n",
    "            pro.append(i)\n",
    "    m = 1\n",
    "    for j in pro:\n",
    "        m *= j\n",
    "    return m, pro\n",
    "positive_product(l)"
   ]
  },
  {
   "cell_type": "markdown",
   "id": "6ad38c67",
   "metadata": {},
   "source": [
    "18. Write a code that doubles the values of odd numbers from a given list."
   ]
  },
  {
   "cell_type": "code",
   "execution_count": 39,
   "id": "a09562e2",
   "metadata": {},
   "outputs": [
    {
     "data": {
      "text/plain": [
       "[2, 6, 10]"
      ]
     },
     "execution_count": 39,
     "metadata": {},
     "output_type": "execute_result"
    }
   ],
   "source": [
    "l = [1, 2, 3, 4, 5, 6]\n",
    "def double_odd(a):\n",
    "    odd = []\n",
    "    for i in a:\n",
    "        if i%2 != 0:\n",
    "            odd.append(i*2)\n",
    "    return odd\n",
    "double_odd(l)"
   ]
  },
  {
   "cell_type": "markdown",
   "id": "6b2b6a8e",
   "metadata": {},
   "source": [
    "19. Write a code that calculates the sum of cubes of numbers from a given list."
   ]
  },
  {
   "cell_type": "code",
   "execution_count": 40,
   "id": "f629be87",
   "metadata": {},
   "outputs": [
    {
     "data": {
      "text/plain": [
       "441"
      ]
     },
     "execution_count": 40,
     "metadata": {},
     "output_type": "execute_result"
    }
   ],
   "source": [
    "l = [1, 2, 3, 4, 5, 6]\n",
    "def add_cube(a):\n",
    "    add = 0\n",
    "    for i in a:\n",
    "        add += (i**3)\n",
    "    return add\n",
    "add_cube(l)"
   ]
  },
  {
   "cell_type": "markdown",
   "id": "7ddfbca5",
   "metadata": {},
   "source": [
    "20. Write a code that filters out prime numbers from a given list."
   ]
  },
  {
   "cell_type": "code",
   "execution_count": 41,
   "id": "4197be76",
   "metadata": {},
   "outputs": [
    {
     "data": {
      "text/plain": [
       "[2, 3, 5, 7]"
      ]
     },
     "execution_count": 41,
     "metadata": {},
     "output_type": "execute_result"
    }
   ],
   "source": [
    "def check_prime(n):\n",
    "    x = 0\n",
    "    for i in range(1, n+1):\n",
    "        if (n%i == 0):\n",
    "            x += 1\n",
    "    if x == 2:\n",
    "        return True\n",
    "    else:\n",
    "        return False\n",
    "list(filter(check_prime, [1, 2, 3, 4, 5, 6, 7, 8, 9]))"
   ]
  },
  {
   "cell_type": "markdown",
   "id": "41a2860a",
   "metadata": {},
   "source": [
    "21. Write a code that uses a lambda function to calculate the sum of two numbers."
   ]
  },
  {
   "cell_type": "code",
   "execution_count": 42,
   "id": "9cd41ae5",
   "metadata": {},
   "outputs": [],
   "source": [
    "# Same as question number 11."
   ]
  },
  {
   "cell_type": "markdown",
   "id": "095bb47f",
   "metadata": {},
   "source": [
    "22. Write a code that uses a lambda function to calculate the square of a given number."
   ]
  },
  {
   "cell_type": "code",
   "execution_count": 43,
   "id": "5799eb69",
   "metadata": {},
   "outputs": [],
   "source": [
    "# Same as question number 12."
   ]
  },
  {
   "cell_type": "markdown",
   "id": "1d41ce6d",
   "metadata": {},
   "source": [
    "23. Write a code that uses a lambda function to check whether a given number is even or odd."
   ]
  },
  {
   "cell_type": "code",
   "execution_count": 44,
   "id": "c3b51940",
   "metadata": {},
   "outputs": [],
   "source": [
    "# Same as question number 13."
   ]
  },
  {
   "cell_type": "markdown",
   "id": "721080b4",
   "metadata": {},
   "source": [
    "24. Write a code that uses a lambda function to concatenate two strings."
   ]
  },
  {
   "cell_type": "code",
   "execution_count": 45,
   "id": "adf55ec6",
   "metadata": {},
   "outputs": [],
   "source": [
    "# Same as question number 14."
   ]
  },
  {
   "cell_type": "markdown",
   "id": "4fbf5e06",
   "metadata": {},
   "source": [
    "25. Write a code that uses a lambda function to find the maximum of three given numbers."
   ]
  },
  {
   "cell_type": "code",
   "execution_count": 46,
   "id": "74ee088a",
   "metadata": {},
   "outputs": [],
   "source": [
    "# Same as question number 15."
   ]
  },
  {
   "cell_type": "markdown",
   "id": "26bd76db",
   "metadata": {},
   "source": [
    "26. What is encapsulation in OOP?"
   ]
  },
  {
   "cell_type": "markdown",
   "id": "48e3ca3d",
   "metadata": {},
   "source": [
    "Encapsulation is one of the four fundamental concepts of object-oriented programming (OOP), alongside inheritance, polymorphism, and abstraction. It refers to the bundling of data (attributes or properties) and methods (functions or procedures) that operate on that data into a single unit, known as a class. In encapsulation, the internal state of an object is hidden from the outside world, and access to it is restricted to methods defined within the class.\n",
    "\n",
    "Encapsulation achieves the following key objectives:\n",
    "\n",
    "Data Hiding: Encapsulation allows the internal details of an object (its attributes or properties) to be hidden from outside interference or misuse. Only the methods provided by the class for interacting with the data can access or modify it. This helps prevent unintended modifications to the object's state and ensures data integrity.\n",
    "\n",
    "Abstraction: Encapsulation provides an abstraction mechanism by exposing a simple interface to the outside world while hiding the complex implementation details. Users of the class only need to know how to interact with the object through its public methods, without needing to understand how those methods are implemented internally.\n",
    "\n",
    "Access Control: Encapsulation enables control over access to the internal state of an object by defining different levels of access (public, private, protected) for its attributes and methods. This allows developers to enforce security, ensure data consistency, and maintain the object's integrity."
   ]
  },
  {
   "cell_type": "markdown",
   "id": "a4ae101f",
   "metadata": {},
   "source": [
    "27. Explain the use of access modifiers in Python classes."
   ]
  },
  {
   "cell_type": "markdown",
   "id": "0e76165c",
   "metadata": {},
   "source": [
    "Public Access:\n",
    "Attributes or methods without any underscores are considered public and can be accessed from outside the class.\n",
    "Public members are part of the class's public interface and can be accessed by instances of the class.\n",
    "\n",
    "Protected Access:\n",
    "Attributes or methods prefixed with a single underscore (_) are considered protected and should be treated as non-public parts of the API.\n",
    "Protected members are accessible within the class itself and by its subclasses.\n",
    "\n",
    "Private Access:\n",
    "Attributes or methods prefixed with double underscores (__) are considered private and should not be accessed directly from outside the class.\n",
    "Private members are not accessible outside the class scope, and attempting to access them directly will result in a NameError."
   ]
  },
  {
   "cell_type": "markdown",
   "id": "484ffc42",
   "metadata": {},
   "source": [
    "28. What is inheritance in OOP?"
   ]
  },
  {
   "cell_type": "markdown",
   "id": "83e19b62",
   "metadata": {},
   "source": [
    "Inheritance is a fundamental concept in object-oriented programming (OOP) that allows a new class (called the derived class or subclass) to inherit attributes and methods from an existing class (called the base class or superclass). Inheritance enables code reuse and promotes the creation of hierarchical relationships between classes.\n",
    "\n",
    "Inheritance allows a subclass to inherit the attributes and behaviors (methods) of its superclass, thereby extending or specializing its functionality. The subclass can also add new attributes or methods, override existing methods, or inherit and use methods from the superclass without modification.\n",
    "\n",
    "Key points about inheritance in OOP include:\n",
    "\n",
    "    Base Class (Superclass): The existing class from which attributes and methods are inherited is known as the base class or superclass. It serves as the blueprint for creating new classes.\n",
    "    Derived Class (Subclass): The new class that inherits attributes and methods from the base class is called the derived class or subclass. It extends the functionality of the superclass and can add its own unique attributes and methods.\n",
    "\n",
    "Types of Inheritance:\n",
    "    \n",
    "    Single Inheritance: A subclass inherits from only one superclass.\n",
    "    Multiple Inheritance: A subclass inherits from multiple superclasses.\n",
    "    Multilevel Inheritance: A subclass inherits from another subclass, creating a hierarchical chain of inheritance.\n",
    "    Hierarchical Inheritance: Multiple subclasses inherit from a single superclass.\n",
    "    Hybrid Inheritance: Mutiple types or a combination of different inheritance."
   ]
  },
  {
   "cell_type": "markdown",
   "id": "1abf3eef",
   "metadata": {},
   "source": [
    "29. Define polymorphism in OOP."
   ]
  },
  {
   "cell_type": "markdown",
   "id": "7bdc63b2",
   "metadata": {},
   "source": [
    "Polymorphism is a fundamental concept in object-oriented programming (OOP) that refers to the ability of objects to take on multiple forms or behaviors depending on the context in which they are used. In other words, polymorphism allows objects of different classes to be treated as objects of a common superclass, enabling code to be written in a more generic and flexible manner.\n",
    "\n",
    "There are two main types of polymorphism in OOP:\n",
    "\n",
    "Compile-time Polymorphism (Method Overloading):\n",
    "Method overloading refers to the ability to define multiple methods with the same name but different parameter lists within a class.\n",
    "\n",
    "Run-time Polymorphism (Method Overriding):\n",
    "Method overriding occurs when a subclass provides a specific implementation of a method that is already defined in its superclass."
   ]
  },
  {
   "cell_type": "markdown",
   "id": "a97d26ec",
   "metadata": {},
   "source": [
    "30. Explain method overriding in Python."
   ]
  },
  {
   "cell_type": "markdown",
   "id": "6f2129f5",
   "metadata": {},
   "source": [
    "Method overriding is a concept in object-oriented programming (OOP) that occurs when a subclass provides a specific implementation of a method that is already defined in its superclass. In other words, the subclass redefines the behavior of a method inherited from its superclass. Method overriding allows subclasses to customize or extend the behavior of inherited methods to suit their own requirements.\n",
    "\n",
    "Here are the key points about method overriding in Python:\n",
    "\n",
    "Inheritance: Method overriding is closely related to inheritance, as it occurs within the context of subclassing. When a subclass inherits a method from its superclass, it has the option to override that method with its own implementation.\n",
    "\n",
    "Same Signature: The overridden method in the subclass must have the same name, return type, and parameters (if any) as the method in the superclass. This ensures that the method in the subclass is recognized as an override of the method in the superclass.\n",
    "\n",
    "Dynamic Dispatch: The decision of which method to execute is made at runtime, based on the actual type of the object. This is known as dynamic dispatch or dynamic binding. When a method is called on an object, Python looks for the method definition starting from the class of the object and traverses up the class hierarchy until it finds a matching method definition. If an overridden method is found in a subclass, it is executed instead of the method in the superclass.\n",
    "\n",
    "Customization and Extension: Method overriding allows subclasses to customize or extend the behavior of inherited methods. Subclasses can provide their own implementations of methods to tailor the behavior to their specific needs, while still benefiting from the common interface provided by the superclass."
   ]
  },
  {
   "cell_type": "markdown",
   "id": "ccd58be9",
   "metadata": {},
   "source": [
    "31. Define a parent class Animal with a method make_sound that prints \"Generic animal sound\". Create a child class Dog inheriting from Animal with a method make_sound that prints \"Woof!\"."
   ]
  },
  {
   "cell_type": "code",
   "execution_count": 47,
   "id": "dd69d4e9",
   "metadata": {},
   "outputs": [],
   "source": [
    "class Animal:\n",
    "    def make_sound(self):\n",
    "        print(\"Generic animal sound\")\n",
    "class Dog(Animal):\n",
    "    def make_sound(self):\n",
    "        print(\"Woof!\")"
   ]
  },
  {
   "cell_type": "code",
   "execution_count": 48,
   "id": "411b3855",
   "metadata": {},
   "outputs": [],
   "source": [
    "obj1 = Animal()\n",
    "obj2 = Dog()"
   ]
  },
  {
   "cell_type": "code",
   "execution_count": 49,
   "id": "c8137959",
   "metadata": {},
   "outputs": [
    {
     "name": "stdout",
     "output_type": "stream",
     "text": [
      "Generic animal sound\n"
     ]
    }
   ],
   "source": [
    "obj1.make_sound()"
   ]
  },
  {
   "cell_type": "code",
   "execution_count": 50,
   "id": "a767c911",
   "metadata": {},
   "outputs": [
    {
     "name": "stdout",
     "output_type": "stream",
     "text": [
      "Woof!\n"
     ]
    }
   ],
   "source": [
    "obj2.make_sound()"
   ]
  },
  {
   "cell_type": "markdown",
   "id": "bd2872bf",
   "metadata": {},
   "source": [
    "32. Define a method move in the Animal class that prints \"Animal moves\". Override the move method in the Dog class to print \"Dog runs.\""
   ]
  },
  {
   "cell_type": "code",
   "execution_count": 51,
   "id": "e7a0307c",
   "metadata": {},
   "outputs": [],
   "source": [
    "class Animal:\n",
    "    def move(self):\n",
    "        print(\"Animal moves\")\n",
    "class Dog(Animal):\n",
    "    def move(self):\n",
    "        print(\"Dog runs\")"
   ]
  },
  {
   "cell_type": "code",
   "execution_count": 52,
   "id": "98a748d6",
   "metadata": {},
   "outputs": [],
   "source": [
    "obj1 = Animal()\n",
    "obj2 = Dog()"
   ]
  },
  {
   "cell_type": "code",
   "execution_count": 53,
   "id": "8b49b061",
   "metadata": {},
   "outputs": [
    {
     "name": "stdout",
     "output_type": "stream",
     "text": [
      "Animal moves\n"
     ]
    }
   ],
   "source": [
    "obj1.move()"
   ]
  },
  {
   "cell_type": "code",
   "execution_count": 54,
   "id": "afde0ea4",
   "metadata": {},
   "outputs": [
    {
     "name": "stdout",
     "output_type": "stream",
     "text": [
      "Dog runs\n"
     ]
    }
   ],
   "source": [
    "obj2.move()"
   ]
  },
  {
   "cell_type": "markdown",
   "id": "82b2f1cc",
   "metadata": {},
   "source": [
    "33. Create a class Mammal with a method reproduce that prints \"Giving birth to live young.\" Create a class DogMammal inheriting from both Dog and Mammal."
   ]
  },
  {
   "cell_type": "code",
   "execution_count": 55,
   "id": "03ece459",
   "metadata": {},
   "outputs": [],
   "source": [
    "class Mammal:\n",
    "    def reproduce(self):\n",
    "        print(\"Giving birth to live young.\")\n",
    "class DogMammal(Dog, Mammal):\n",
    "    pass"
   ]
  },
  {
   "cell_type": "markdown",
   "id": "eb737fe3",
   "metadata": {},
   "source": [
    "34. Create a class GermanShepherd inheriting from Dog and override the make_sound method to print \"Bark!\""
   ]
  },
  {
   "cell_type": "code",
   "execution_count": 56,
   "id": "5da5c674",
   "metadata": {},
   "outputs": [],
   "source": [
    "class Dog:\n",
    "    def make_sound(self):\n",
    "        print(\"Woof!\")\n",
    "class GermanShepherd(Dog):\n",
    "    def make_sound(self):\n",
    "        print(\"Bark!\")"
   ]
  },
  {
   "cell_type": "code",
   "execution_count": 57,
   "id": "ecfca0f4",
   "metadata": {},
   "outputs": [],
   "source": [
    "obj2 = GermanShepherd()"
   ]
  },
  {
   "cell_type": "code",
   "execution_count": 58,
   "id": "04286299",
   "metadata": {},
   "outputs": [
    {
     "name": "stdout",
     "output_type": "stream",
     "text": [
      "Bark!\n"
     ]
    }
   ],
   "source": [
    "obj2.make_sound()"
   ]
  },
  {
   "cell_type": "markdown",
   "id": "12bcf53c",
   "metadata": {},
   "source": [
    "35. Define constructors in both the Animal and Dog classes with different initialization parameters."
   ]
  },
  {
   "cell_type": "code",
   "execution_count": 59,
   "id": "5d3b9973",
   "metadata": {},
   "outputs": [],
   "source": [
    "class Animal:\n",
    "    def __init__(self, name):\n",
    "        self.name = name\n",
    "class Dog:\n",
    "    def __init__(self, age):\n",
    "        self.age = age"
   ]
  },
  {
   "cell_type": "code",
   "execution_count": 60,
   "id": "526806fe",
   "metadata": {},
   "outputs": [],
   "source": [
    "object1 = Animal(\"Tiger\")\n",
    "object2 = Dog(14)"
   ]
  },
  {
   "cell_type": "markdown",
   "id": "1846f381",
   "metadata": {},
   "source": [
    "36. What is abstraction in Python? How is it implemented?"
   ]
  },
  {
   "cell_type": "markdown",
   "id": "35787b5f",
   "metadata": {},
   "source": [
    "Abstraction is a fundamental concept in computer science and object-oriented programming (OOP) that involves hiding the implementation details of a system while exposing only the essential features or functionalities to the outside world. Abstraction allows developers to focus on the high-level design of a system without getting bogged down in the low-level implementation details.\n",
    "\n",
    "In Python, abstraction is implemented using classes and objects.\n",
    "\n",
    "Classes: Classes serve as blueprints for creating objects. They encapsulate both data (attributes) and behavior (methods) into a single unit. When designing classes, developers focus on defining the essential attributes and methods that represent the characteristics and actions of the objects they model.\n",
    "\n",
    "Encapsulation: Encapsulation is closely related to abstraction and involves bundling data and methods together within a class and controlling access to them. By encapsulating data and methods, a class hides the internal state and implementation details from the outside world, allowing interaction with the object only through well-defined interfaces (public methods).\n",
    "\n",
    "Interface: The public methods of a class define the interface through which external code interacts with objects of that class. These methods provide a high-level abstraction of the object's behavior, allowing users to perform operations without needing to understand the underlying implementation details."
   ]
  },
  {
   "cell_type": "markdown",
   "id": "0b060219",
   "metadata": {},
   "source": [
    "37. Explain the importance of abstraction in object-oriented programming."
   ]
  },
  {
   "cell_type": "markdown",
   "id": "37ae1e76",
   "metadata": {},
   "source": [
    "Abstraction is a fundamental principle in object-oriented programming (OOP) with several important benefits:\n",
    "\n",
    "Simplification of Complex Systems: Abstraction allows developers to focus on the essential aspects of a system while hiding unnecessary details. By abstracting away implementation complexities, developers can design and understand systems at a higher level without getting bogged down in the minutiae of every component.\n",
    "\n",
    "Modularity and Reusability: Abstraction promotes modularity by encapsulating related data and behavior into cohesive units (classes). These units can then be reused across different parts of the system or in other projects, leading to code reusability and reducing duplication.\n",
    "\n",
    "Encapsulation and Information Hiding: Abstraction enables encapsulation, which involves bundling data and behavior into a single unit (class) and controlling access to that unit. By hiding the internal state and implementation details of objects, abstraction protects them from unintended modification and ensures data integrity.\n",
    "\n",
    "Separation of Concerns: Abstraction helps in separating different concerns or aspects of a system into distinct modules or classes. Each class represents a single responsibility or aspect of the system, making it easier to understand, maintain, and extend the codebase.\n",
    "\n",
    "Flexibility and Adaptability: Abstraction provides a flexible and adaptable way to design systems. By defining clear interfaces and hiding implementation details, abstraction allows developers to make changes to the underlying implementation without affecting the rest of the system. This promotes flexibility and makes it easier to accommodate changes and new requirements.\n",
    "\n",
    "High-Level Design: Abstraction facilitates high-level design by allowing developers to focus on designing classes and interfaces that model real-world entities and behaviors. This abstraction level makes it easier to communicate and reason about the system's design, leading to better overall architecture.\n",
    "\n",
    "Polymorphism and Interface-based Programming: Abstraction enables polymorphism, which allows objects of different classes to be treated interchangeably based on their common interface. Interface-based programming relies on abstraction to define and enforce contracts between components, promoting loose coupling and flexibility."
   ]
  },
  {
   "cell_type": "markdown",
   "id": "5f07361e",
   "metadata": {},
   "source": [
    "38. How are abstract methods different from regular methods in Python?"
   ]
  },
  {
   "cell_type": "markdown",
   "id": "2e00e654",
   "metadata": {},
   "source": [
    "In Python, abstract methods and regular methods are different in terms of their purpose, implementation, and usage within classes:\n",
    "\n",
    "Purpose:\n",
    "\n",
    "    Abstract methods: Abstract methods are methods declared within a class definition that are intended to be implemented by subclasses. They define a common interface or contract that subclasses must adhere to but do not provide an implementation in the base class.\n",
    "\n",
    "    Regular methods: Regular methods are methods that have a complete implementation in the class where they are defined. They perform specific tasks or operations and can be called directly on instances of the class.\n",
    "\n",
    "Implementation:\n",
    "\n",
    "    Abstract methods: Abstract methods are defined using the @abstractmethod decorator from the abc module (Abstract Base Classes) or by raising a NotImplementedError within the method body. They are placeholders for methods that must be implemented by subclasses.\n",
    "\n",
    "    Regular methods: Regular methods have a complete implementation within the class definition. They perform operations or manipulate data associated with the class or its instances.\n",
    "\n",
    "Usage:\n",
    "\n",
    "    Abstract methods: Abstract methods are used in abstract base classes to define a common interface for a group of related classes. Subclasses must implement these methods to provide concrete functionality.\n",
    "\n",
    "    Regular methods: Regular methods are used to define the behavior or actions of objects of the class. They can be called directly on instances of the class to perform specific tasks."
   ]
  },
  {
   "cell_type": "markdown",
   "id": "bad4209f",
   "metadata": {},
   "source": [
    "39. How can you achieve abstraction using interfaces in Python?"
   ]
  },
  {
   "cell_type": "markdown",
   "id": "c2bfd3b4",
   "metadata": {},
   "source": [
    "In Python, abstraction using interfaces can be achieved through a combination of abstract base classes (ABCs) and method definitions without implementations. Although Python does not have a built-in interface keyword like some other languages, abstract base classes can serve as interfaces by defining a set of methods that must be implemented by concrete subclasses.\n",
    "\n",
    "Here's how you can achieve abstraction using interfaces in Python:\n",
    "\n",
    "Abstract Base Classes (ABCs):\n",
    "Define an abstract base class using the abc module, which provides support for defining abstract classes and methods.\n",
    "Use the abstractmethod decorator to declare abstract methods within the abstract base class. Abstract methods are methods that must be implemented by concrete subclasses.\n",
    "\n",
    "Subclassing and Implementation:\n",
    "Create concrete subclasses that inherit from the abstract base class.\n",
    "Implement the abstract methods defined in the abstract base class within the concrete subclasses. Each subclass must provide concrete implementations for all abstract methods.\n",
    "\n",
    "Usage:\n",
    "Instantiate objects of the concrete subclasses and use them as needed.\n",
    "Since the concrete subclasses implement the methods defined in the abstract base class, they can be treated polymorphically, allowing for interchangeable usage."
   ]
  },
  {
   "cell_type": "markdown",
   "id": "e22cedcb",
   "metadata": {},
   "source": [
    "40. Can you provide an example of how abstraction can be utilized to create a common interface for a group of related classes in Python?"
   ]
  },
  {
   "cell_type": "code",
   "execution_count": 61,
   "id": "3dbf9e29",
   "metadata": {},
   "outputs": [
    {
     "name": "stdout",
     "output_type": "stream",
     "text": [
      "Simba says: Woof!\n",
      "Simba is walking.\n",
      "Angel says: Meow!\n",
      "Angel is jumping.\n",
      "Sparrow says: Tweet!\n",
      "Sparrow is flying.\n"
     ]
    }
   ],
   "source": [
    "from abc import ABC, abstractmethod\n",
    "class Animal(ABC):\n",
    "    def __init__(self, name):\n",
    "        self.name = name\n",
    "    @abstractmethod\n",
    "    def speak(self):\n",
    "        pass\n",
    "    @abstractmethod\n",
    "    def move(self):\n",
    "        pass\n",
    "    \n",
    "class Dog(Animal):\n",
    "    def __init__(self, name):\n",
    "        super().__init__(name)\n",
    "    def speak(self):\n",
    "        return \"Woof!\"\n",
    "    def move(self):\n",
    "        return f\"{self.name} is walking.\"\n",
    "    \n",
    "class Cat(Animal):\n",
    "    def __init__(self, name):\n",
    "        super().__init__(name)\n",
    "    def speak(self):\n",
    "        return \"Meow!\"\n",
    "    def move(self):\n",
    "        return f\"{self.name} is jumping.\"\n",
    "    \n",
    "class Bird(Animal):\n",
    "    def __init__(self, name):\n",
    "        super().__init__(name)\n",
    "    def speak(self):\n",
    "        return \"Tweet!\"\n",
    "    def move(self):\n",
    "        return f\"{self.name} is flying.\"\n",
    "\n",
    "dog = Dog(\"Simba\")\n",
    "cat = Cat(\"Angel\")\n",
    "bird = Bird(\"Sparrow\")\n",
    "\n",
    "print(dog.name, \"says:\", dog.speak())\n",
    "print(dog.move())\n",
    "\n",
    "print(cat.name, \"says:\", cat.speak())\n",
    "print(cat.move())\n",
    "\n",
    "print(bird.name, \"says:\", bird.speak())\n",
    "print(bird.move())"
   ]
  },
  {
   "cell_type": "markdown",
   "id": "a1ecba1c",
   "metadata": {},
   "source": [
    "41. How does Python achieve polymorphism through method overriding?"
   ]
  },
  {
   "cell_type": "markdown",
   "id": "2c9839c9",
   "metadata": {},
   "source": [
    "In Python, polymorphism through method overriding is achieved by allowing subclasses to provide their own implementation of a method that is already defined in their superclass. This process involves dynamic dispatch, where the decision of which method to execute is made at runtime based on the actual type of the object.\n",
    "\n",
    "Here's how Python achieves polymorphism through method overriding:\n",
    "\n",
    "Inheritance: Subclasses inherit methods from their superclass, including any methods that are defined as part of the superclass's interface.\n",
    "\n",
    "Method Overriding: Subclasses can override (redefine) methods inherited from their superclass by providing a new implementation of the method with the same name and signature.\n",
    "\n",
    "Dynamic Dispatch: When a method is called on an object, Python looks up the method definition starting from the class of the object and traverses up the class hierarchy until it finds a matching method definition. If an overridden method is found in a subclass, it is executed instead of the method in the superclass.\n",
    "\n",
    "Common Interface: Method overriding relies on the concept of a common interface, where multiple classes implement the same method but provide different behavior based on their specific requirements.\n",
    "\n",
    "Polymorphic Behavior: Objects of different classes can be treated interchangeably based on their common interface. This allows for polymorphic behavior, where the same method call can produce different results depending on the actual type of the object."
   ]
  },
  {
   "cell_type": "markdown",
   "id": "878524e9",
   "metadata": {},
   "source": [
    "42. Define a base class with a method and a subclass that overrides the method."
   ]
  },
  {
   "cell_type": "code",
   "execution_count": 62,
   "id": "a98f44e5",
   "metadata": {},
   "outputs": [],
   "source": [
    "class A:\n",
    "    def msg(self):\n",
    "        print(\"Hello World\")\n",
    "class B(A):\n",
    "    def msg(self):\n",
    "        print(\"How are you?\")"
   ]
  },
  {
   "cell_type": "code",
   "execution_count": 63,
   "id": "dcd998a2",
   "metadata": {},
   "outputs": [],
   "source": [
    "obj = B()"
   ]
  },
  {
   "cell_type": "code",
   "execution_count": 64,
   "id": "471b2c96",
   "metadata": {},
   "outputs": [
    {
     "name": "stdout",
     "output_type": "stream",
     "text": [
      "How are you?\n"
     ]
    }
   ],
   "source": [
    "obj.msg()"
   ]
  },
  {
   "cell_type": "markdown",
   "id": "862cd5fa",
   "metadata": {},
   "source": [
    "43. Define a base class and multiple subclasses with overridden methods."
   ]
  },
  {
   "cell_type": "code",
   "execution_count": 65,
   "id": "5315a6a6",
   "metadata": {},
   "outputs": [],
   "source": [
    "class A:\n",
    "    def msg(self):\n",
    "        print(\"Hello World\")\n",
    "class B(A):\n",
    "    def msg(self):\n",
    "        print(\"How are you?\")\n",
    "class C(A):\n",
    "    def msg(self):\n",
    "        print(\"I am Harsh\")\n",
    "class D(A):\n",
    "    def msg(self):\n",
    "        print(\"Hi brother\")"
   ]
  },
  {
   "cell_type": "code",
   "execution_count": 66,
   "id": "1a6cd33b",
   "metadata": {},
   "outputs": [],
   "source": [
    "object1 = A()\n",
    "object2 = B()\n",
    "object3 = C()\n",
    "object4 = D()"
   ]
  },
  {
   "cell_type": "code",
   "execution_count": 67,
   "id": "3d6b4294",
   "metadata": {},
   "outputs": [
    {
     "name": "stdout",
     "output_type": "stream",
     "text": [
      "Hello World\n"
     ]
    }
   ],
   "source": [
    "object1.msg()"
   ]
  },
  {
   "cell_type": "code",
   "execution_count": 68,
   "id": "c68e753c",
   "metadata": {},
   "outputs": [
    {
     "name": "stdout",
     "output_type": "stream",
     "text": [
      "How are you?\n"
     ]
    }
   ],
   "source": [
    "object2.msg()"
   ]
  },
  {
   "cell_type": "code",
   "execution_count": 69,
   "id": "78624b4d",
   "metadata": {},
   "outputs": [
    {
     "name": "stdout",
     "output_type": "stream",
     "text": [
      "I am Harsh\n"
     ]
    }
   ],
   "source": [
    "object3.msg()"
   ]
  },
  {
   "cell_type": "code",
   "execution_count": 70,
   "id": "c37b2cb4",
   "metadata": {},
   "outputs": [
    {
     "name": "stdout",
     "output_type": "stream",
     "text": [
      "Hi brother\n"
     ]
    }
   ],
   "source": [
    "object4.msg()"
   ]
  },
  {
   "cell_type": "markdown",
   "id": "440dc908",
   "metadata": {},
   "source": [
    "44. How does polymorphism improve code readability and reusability?"
   ]
  },
  {
   "cell_type": "markdown",
   "id": "8d53b111",
   "metadata": {},
   "source": [
    "Polymorphism improves code readability and reusability in several ways:\n",
    "\n",
    "Simplification of Code: Polymorphism allows for a more intuitive and concise representation of code. By defining common interfaces and behaviors through superclass methods, the code becomes easier to understand and reason about.\n",
    "\n",
    "Enhanced Readability: Polymorphism promotes a clear separation of concerns, where each class is responsible for its own behavior. This separation makes it easier for developers to focus on specific parts of the codebase, leading to improved readability and comprehension.\n",
    "\n",
    "Flexibility and Adaptability: Polymorphic code is more flexible and adaptable to changes. New subclasses can be introduced without impacting existing code, as long as they adhere to the common interface defined by the superclass. This promotes code reuse and simplifies maintenance.\n",
    "\n",
    "Simplified Client Code: Polymorphism simplifies client code by allowing objects of different subclasses to be treated uniformly based on their common interface. This means that client code can interact with objects without needing to know their specific types, leading to cleaner and more modular code.\n",
    "\n",
    "Reduced Duplication: Polymorphism reduces code duplication by promoting the reuse of common behaviors and interfaces across multiple classes. Instead of implementing similar functionality in each subclass, common behavior can be defined once in the superclass and reused as needed.\n",
    "\n",
    "Promotion of Design Patterns: Polymorphism encourages the use of design patterns such as the Strategy pattern, Factory pattern, and Template Method pattern, which further improve code readability and reusability by providing standardized solutions to common design problems."
   ]
  },
  {
   "cell_type": "markdown",
   "id": "a8af3dcb",
   "metadata": {},
   "source": [
    "45. Describe how Python supports polymorphism with duck typing."
   ]
  },
  {
   "cell_type": "markdown",
   "id": "003b97fa",
   "metadata": {},
   "source": [
    "In Python, polymorphism is supported through a concept called \"duck typing.\" Duck typing is a style of dynamic typing in which the type or class of an object is determined by its behavior rather than its explicit type or inheritance hierarchy. The term \"duck typing\" comes from the saying, \"If it looks like a duck, swims like a duck, and quacks like a duck, then it probably is a duck.\"\n",
    "\n",
    "Here's how Python supports polymorphism with duck typing:\n",
    "\n",
    "Dynamic Typing: Python is dynamically typed, meaning that the type of an object is determined at runtime based on its behavior and the operations that can be performed on it.\n",
    "\n",
    "No Explicit Interfaces: Unlike statically typed languages like Java, Python does not require explicit interfaces or inheritance hierarchies to achieve polymorphism. Instead, any object that implements the necessary methods can be used interchangeably in place of another object with the same interface.\n",
    "\n",
    "Polymorphic Behavior: Python functions and methods operate on objects based on their behavior rather than their specific types. If an object supports the required methods or attributes, it can be used polymorphically, regardless of its actual type or class.\n",
    "\n",
    "Easier to Understand: Duck typing simplifies code and makes it easier to understand by focusing on what an object can do rather than what it is. This promotes a more flexible and expressive coding style."
   ]
  },
  {
   "cell_type": "markdown",
   "id": "ab3bf560",
   "metadata": {},
   "source": [
    "46. How do you achieve encapsulation in Python?"
   ]
  },
  {
   "cell_type": "markdown",
   "id": "1ca39680",
   "metadata": {},
   "source": [
    "Encapsulation in Python is achieved through the use of classes and access modifiers, such as public, private, and protected attributes and methods. Encapsulation refers to the bundling of data (attributes) and methods that operate on that data into a single unit (class), and controlling access to that data and methods from outside the class.\n",
    "\n",
    "Here's how encapsulation is achieved in Python:\n",
    "\n",
    "Classes and Objects: Define a class to encapsulate related data and behaviors. Objects (instances) of the class can then be created to interact with the encapsulated data and methods.\n",
    "\n",
    "Access Modifiers:\n",
    "\n",
    "    Public: By default, attributes and methods in Python classes are public, meaning they can be accessed from outside the class.\n",
    "    Private: Prefix attribute names with double underscores (__) to make them private. Private attributes and methods are accessible only within the class itself, not from outside the class.\n",
    "    Protected: Prefix attribute names with a single underscore (_) to make them protected. Protected attributes and methods are accessible within the class and its subclasses, but not from outside the class hierarchy.\n",
    "\n",
    "Getter and Setter Methods: Use getter and setter methods to access and modify private attributes. This allows for controlled access to the data, enabling validation or additional logic to be applied when setting or getting attribute values."
   ]
  },
  {
   "cell_type": "markdown",
   "id": "7d65b01d",
   "metadata": {},
   "source": [
    "47. Can encapsulation be bypassed in Python? If so, how?"
   ]
  },
  {
   "cell_type": "markdown",
   "id": "81564189",
   "metadata": {},
   "source": [
    "Yes, encapsulation can be bypassed in Python to some extent, although it goes against the principle of encapsulation and is generally discouraged. Python provides ways to access and modify private attributes and methods from outside the class, although doing so directly is considered bad practice and can lead to unexpected behavior or errors.\n",
    "\n",
    "Here are some ways encapsulation can be bypassed in Python:\n",
    "\n",
    "Name Mangling: Python uses name mangling to make private attributes and methods harder to access from outside the class, but it's still possible to access them using their mangled names. Private attributes are prefixed with double underscores (_ _), and Python name mangling converts these names to _ClassName__attributeName. However, this is just a convention and can be overridden if needed.\n",
    "\n",
    "Using Reflection: Python's reflection capabilities allow programmers to access private attributes and methods using functions such as getattr(), setattr(), and hasattr(). These functions can be used to get, set, or check the existence of private attributes and methods, bypassing encapsulation.\n",
    "\n",
    "Subclassing: Subclasses can access and modify private attributes and methods of their superclass, as long as they are not named exactly the same as private attributes or methods in the subclass.\n",
    "\n",
    "Using Underscore Prefix: Although not enforced by the language, Python programmers conventionally use a single underscore (_) prefix to indicate that an attribute or method is intended to be private or protected. However, this is purely a convention and does not prevent direct access to the attribute or method."
   ]
  },
  {
   "cell_type": "markdown",
   "id": "42118afa",
   "metadata": {},
   "source": [
    "48. Implement a class BankAccount with a private balance attribute. Include methods to deposit, withdraw, and check the balance."
   ]
  },
  {
   "cell_type": "code",
   "execution_count": 71,
   "id": "54ff48fd",
   "metadata": {},
   "outputs": [],
   "source": [
    "class BankAccount:\n",
    "    def __init__(self, balance):\n",
    "        self.__balance = balance\n",
    "    def deposit(self, deposit_amount):\n",
    "        self.__balance += deposit_amount\n",
    "    def withdraw(self, withdraw_amount):\n",
    "        if self.__balance >= withdraw_amount:\n",
    "            self.__balance -= withdraw_amount\n",
    "    def check_balance(self):\n",
    "        print(self.__balance)"
   ]
  },
  {
   "cell_type": "code",
   "execution_count": 72,
   "id": "ba38c1b7",
   "metadata": {},
   "outputs": [],
   "source": [
    "account = BankAccount(10000)"
   ]
  },
  {
   "cell_type": "code",
   "execution_count": 73,
   "id": "be92f48b",
   "metadata": {},
   "outputs": [
    {
     "name": "stdout",
     "output_type": "stream",
     "text": [
      "10000\n"
     ]
    }
   ],
   "source": [
    "account.check_balance()"
   ]
  },
  {
   "cell_type": "code",
   "execution_count": 74,
   "id": "7cca1f22",
   "metadata": {},
   "outputs": [],
   "source": [
    "account.deposit(5000)"
   ]
  },
  {
   "cell_type": "code",
   "execution_count": 75,
   "id": "45a20692",
   "metadata": {},
   "outputs": [
    {
     "name": "stdout",
     "output_type": "stream",
     "text": [
      "15000\n"
     ]
    }
   ],
   "source": [
    "account.check_balance()"
   ]
  },
  {
   "cell_type": "code",
   "execution_count": 76,
   "id": "7b9ebe87",
   "metadata": {},
   "outputs": [],
   "source": [
    "account.withdraw(12500)"
   ]
  },
  {
   "cell_type": "code",
   "execution_count": 77,
   "id": "6d6c5480",
   "metadata": {},
   "outputs": [
    {
     "name": "stdout",
     "output_type": "stream",
     "text": [
      "2500\n"
     ]
    }
   ],
   "source": [
    "account.check_balance()"
   ]
  },
  {
   "cell_type": "markdown",
   "id": "fee3a903",
   "metadata": {},
   "source": [
    "49. Develop a Person class with private attributes name and email, and methods to set and get the email."
   ]
  },
  {
   "cell_type": "code",
   "execution_count": 78,
   "id": "04c4106e",
   "metadata": {},
   "outputs": [],
   "source": [
    "class Person:\n",
    "    def setting(self, name, email):\n",
    "        self.__name = name\n",
    "        self.__email = email\n",
    "    def getting(self):\n",
    "        print(\"Person's name is\", self.__name)\n",
    "        print(\"Person's email is\", self.__email)"
   ]
  },
  {
   "cell_type": "code",
   "execution_count": 79,
   "id": "bfec6d0b",
   "metadata": {},
   "outputs": [],
   "source": [
    "people = Person()"
   ]
  },
  {
   "cell_type": "code",
   "execution_count": 80,
   "id": "a5657dbe",
   "metadata": {},
   "outputs": [],
   "source": [
    "people.setting(\"Harsh\", \"ha@gmail.com\")"
   ]
  },
  {
   "cell_type": "code",
   "execution_count": 81,
   "id": "75dc5a0f",
   "metadata": {},
   "outputs": [
    {
     "name": "stdout",
     "output_type": "stream",
     "text": [
      "Person's name is Harsh\n",
      "Person's email is ha@gmail.com\n"
     ]
    }
   ],
   "source": [
    "people.getting()"
   ]
  },
  {
   "cell_type": "markdown",
   "id": "39d83177",
   "metadata": {},
   "source": [
    "50. Why is encapsulation considered a pillar of object-oriented programming (OOP)?"
   ]
  },
  {
   "cell_type": "markdown",
   "id": "ab4aff2e",
   "metadata": {},
   "source": [
    "Encapsulation is considered a pillar of object-oriented programming (OOP) for several reasons:\n",
    "\n",
    "Data Hiding: Encapsulation allows for the hiding of implementation details within a class, exposing only the necessary information through well-defined interfaces. This protects the integrity of the data and prevents unauthorized access or modification from outside the class.\n",
    "\n",
    "Abstraction: Encapsulation promotes abstraction by bundling data and methods that operate on that data into a single unit (class). This allows developers to focus on the essential aspects of an object's behavior without being concerned with its internal implementation details.\n",
    "\n",
    "Modularity: Encapsulation promotes modularity by dividing complex systems into smaller, more manageable units (classes). Each class encapsulates a specific set of functionalities, making it easier to understand, maintain, and extend the codebase.\n",
    "\n",
    "Information Hiding: Encapsulation allows for the hiding of internal state and implementation details from outside the class. This reduces the complexity of the system and prevents unintended dependencies on implementation details, leading to more robust and maintainable code.\n",
    "\n",
    "Data Integrity: Encapsulation ensures data integrity by providing controlled access to the data through well-defined interfaces (methods). This prevents invalid or inconsistent data from being manipulated directly and allows for validation and error handling to be applied when accessing or modifying the data.\n",
    "\n",
    "Security: Encapsulation enhances security by restricting access to sensitive data and functionalities. By encapsulating data and methods within a class, access can be restricted to only authorized entities, reducing the risk of unauthorized access or tampering."
   ]
  },
  {
   "cell_type": "markdown",
   "id": "c8d34bf7",
   "metadata": {},
   "source": [
    "51. Create a decorator in Python that adds functionality to a simple function by printing a message before and after the function execution."
   ]
  },
  {
   "cell_type": "code",
   "execution_count": 82,
   "id": "db2b2c1e",
   "metadata": {},
   "outputs": [],
   "source": [
    "def decorator(fun):\n",
    "    def msg():\n",
    "        print(\"This message will print before the execution of function\")\n",
    "        fun()\n",
    "        print(\"This message will print after the execution of function\")\n",
    "    return msg"
   ]
  },
  {
   "cell_type": "code",
   "execution_count": 83,
   "id": "c44d686a",
   "metadata": {},
   "outputs": [],
   "source": [
    "@decorator\n",
    "def greet():\n",
    "    print(\"Hello World\")"
   ]
  },
  {
   "cell_type": "code",
   "execution_count": 84,
   "id": "33ba31e1",
   "metadata": {},
   "outputs": [
    {
     "name": "stdout",
     "output_type": "stream",
     "text": [
      "This message will print before the execution of function\n",
      "Hello World\n",
      "This message will print after the execution of function\n"
     ]
    }
   ],
   "source": [
    "greet()"
   ]
  },
  {
   "cell_type": "markdown",
   "id": "4c4f6da5",
   "metadata": {},
   "source": [
    "52. Modify the decorator to accept arguments and print the function name along with the message."
   ]
  },
  {
   "cell_type": "code",
   "execution_count": 85,
   "id": "a7b3542e",
   "metadata": {},
   "outputs": [],
   "source": [
    "def decorator(fun):\n",
    "    def msg():\n",
    "        print(\"This message will print before the execution of function\")\n",
    "        fun()\n",
    "        print(\"Function name is\", fun)\n",
    "        print(\"This message will print after the execution of function\")\n",
    "    return msg"
   ]
  },
  {
   "cell_type": "code",
   "execution_count": 86,
   "id": "0114c66e",
   "metadata": {},
   "outputs": [],
   "source": [
    "@decorator\n",
    "def greet():\n",
    "    print(\"Hello World\")"
   ]
  },
  {
   "cell_type": "code",
   "execution_count": 87,
   "id": "bbd579c2",
   "metadata": {},
   "outputs": [
    {
     "name": "stdout",
     "output_type": "stream",
     "text": [
      "This message will print before the execution of function\n",
      "Hello World\n",
      "Function name is <function greet at 0x0000025CAADA3E50>\n",
      "This message will print after the execution of function\n"
     ]
    }
   ],
   "source": [
    "greet()"
   ]
  },
  {
   "cell_type": "markdown",
   "id": "c3fdb5ae",
   "metadata": {},
   "source": [
    "53. Create two decorators, and apply them to a single function. Ensure that they execute in the order they are applied."
   ]
  },
  {
   "cell_type": "code",
   "execution_count": 88,
   "id": "f0a2859f",
   "metadata": {},
   "outputs": [],
   "source": [
    "def decorator1(fun):\n",
    "    def msg_print1():\n",
    "        print(\"This message1 will print before the execution of function\")\n",
    "        fun()\n",
    "        print(\"This message1 will print after the execution of function\")\n",
    "    return msg_print1\n",
    "def decorator2(fun):\n",
    "    def msg_print2():\n",
    "        print(\"This message2 will print before the execution of function\")\n",
    "        fun()\n",
    "        print(\"This message2 will print after the execution of function\")\n",
    "    return msg_print2"
   ]
  },
  {
   "cell_type": "code",
   "execution_count": 89,
   "id": "f1529411",
   "metadata": {},
   "outputs": [],
   "source": [
    "@decorator1\n",
    "@decorator2\n",
    "def greeting():\n",
    "    print(\"I am Harsh Agrawal\")"
   ]
  },
  {
   "cell_type": "code",
   "execution_count": 90,
   "id": "bd89839d",
   "metadata": {},
   "outputs": [
    {
     "name": "stdout",
     "output_type": "stream",
     "text": [
      "This message1 will print before the execution of function\n",
      "This message2 will print before the execution of function\n",
      "I am Harsh Agrawal\n",
      "This message2 will print after the execution of function\n",
      "This message1 will print after the execution of function\n"
     ]
    }
   ],
   "source": [
    "greeting()"
   ]
  },
  {
   "cell_type": "code",
   "execution_count": 91,
   "id": "10fb385e",
   "metadata": {},
   "outputs": [],
   "source": [
    "@decorator2\n",
    "@decorator1\n",
    "def greeting():\n",
    "    print(\"I am Harsh Agrawal\")"
   ]
  },
  {
   "cell_type": "code",
   "execution_count": 92,
   "id": "028618ec",
   "metadata": {},
   "outputs": [
    {
     "name": "stdout",
     "output_type": "stream",
     "text": [
      "This message2 will print before the execution of function\n",
      "This message1 will print before the execution of function\n",
      "I am Harsh Agrawal\n",
      "This message1 will print after the execution of function\n",
      "This message2 will print after the execution of function\n"
     ]
    }
   ],
   "source": [
    "greeting()"
   ]
  },
  {
   "cell_type": "markdown",
   "id": "3c24f9f6",
   "metadata": {},
   "source": [
    "54. Modify the decorator to accept and pass function arguments to the wrapped function."
   ]
  },
  {
   "cell_type": "code",
   "execution_count": 93,
   "id": "b1411190",
   "metadata": {},
   "outputs": [
    {
     "name": "stdout",
     "output_type": "stream",
     "text": [
      "Function 'my_function': Executing function\n",
      "Inside my_function with arguments: 10, 20\n"
     ]
    }
   ],
   "source": [
    "def custom_decorator(message):\n",
    "    def decorator(func):\n",
    "        def wrapper(*args, **kwargs):\n",
    "            print(f\"Function '{func.__name__}': {message}\")\n",
    "            return func(*args, **kwargs)\n",
    "        return wrapper\n",
    "    return decorator\n",
    "\n",
    "@custom_decorator(\"Executing function\")\n",
    "def my_function(arg1, arg2):\n",
    "    print(f\"Inside my_function with arguments: {arg1}, {arg2}\")\n",
    "\n",
    "my_function(10, 20)"
   ]
  },
  {
   "cell_type": "markdown",
   "id": "3c4279c6",
   "metadata": {},
   "source": [
    "55. Create a decorator that preserves the metadata of the original function."
   ]
  },
  {
   "cell_type": "code",
   "execution_count": 94,
   "id": "a52d543e",
   "metadata": {},
   "outputs": [
    {
     "name": "stdout",
     "output_type": "stream",
     "text": [
      "Function name: my_function\n",
      "Function docstring: \n",
      "    This is the docstring of my_function.\n",
      "    \n",
      "Function 'my_function': Executing function\n",
      "Inside my_function with arguments: 10, 20\n"
     ]
    }
   ],
   "source": [
    "from functools import wraps\n",
    "\n",
    "def custom_decorator(message):\n",
    "    def decorator(func):\n",
    "        @wraps(func)\n",
    "        def wrapper(*args, **kwargs):\n",
    "            print(f\"Function '{func.__name__}': {message}\")\n",
    "            return func(*args, **kwargs)\n",
    "        return wrapper\n",
    "    return decorator\n",
    "\n",
    "@custom_decorator(\"Executing function\")\n",
    "def my_function(arg1, arg2):\n",
    "    \"\"\"\n",
    "    This is the docstring of my_function.\n",
    "    \"\"\"\n",
    "    print(f\"Inside my_function with arguments: {arg1}, {arg2}\")\n",
    "\n",
    "print(\"Function name:\", my_function.__name__)\n",
    "print(\"Function docstring:\", my_function.__doc__)\n",
    "\n",
    "my_function(10, 20)"
   ]
  },
  {
   "cell_type": "markdown",
   "id": "b4a05ee6",
   "metadata": {},
   "source": [
    "56. Create a Python class `Calculator` with a static method `add` that takes in two numbers and returns their sum."
   ]
  },
  {
   "cell_type": "code",
   "execution_count": 95,
   "id": "ff9b05f9",
   "metadata": {},
   "outputs": [],
   "source": [
    "class Calculator:\n",
    "    @staticmethod\n",
    "    def add(num1, num2):\n",
    "        return num1 + num2"
   ]
  },
  {
   "cell_type": "code",
   "execution_count": 96,
   "id": "619c5ac5",
   "metadata": {},
   "outputs": [
    {
     "data": {
      "text/plain": [
       "5"
      ]
     },
     "execution_count": 96,
     "metadata": {},
     "output_type": "execute_result"
    }
   ],
   "source": [
    "Calculator.add(2, 3)"
   ]
  },
  {
   "cell_type": "markdown",
   "id": "d777f65c",
   "metadata": {},
   "source": [
    "57. Create a Python class `Employee` with a class `method get_employee_count` that returns the total number of employees created."
   ]
  },
  {
   "cell_type": "code",
   "execution_count": 97,
   "id": "d121c0c4",
   "metadata": {},
   "outputs": [
    {
     "name": "stdout",
     "output_type": "stream",
     "text": [
      "Total number of employees: 3\n"
     ]
    }
   ],
   "source": [
    "class Employee:\n",
    "    total_employees = 0\n",
    "    def __init__(self, name):\n",
    "        self.name = name\n",
    "        Employee.total_employees += 1\n",
    "    @classmethod\n",
    "    def get_employee_count(cls):\n",
    "        return cls.total_employees\n",
    "\n",
    "emp1 = Employee(\"John\")\n",
    "emp2 = Employee(\"Alice\")\n",
    "emp3 = Employee(\"Bob\")\n",
    "\n",
    "print(\"Total number of employees:\", Employee.get_employee_count())"
   ]
  },
  {
   "cell_type": "markdown",
   "id": "b0c759fa",
   "metadata": {},
   "source": [
    "58. Create a Python class `StringFormatter` with a static method `reverse_string` that takes a string as input and returns its reverse."
   ]
  },
  {
   "cell_type": "code",
   "execution_count": 98,
   "id": "bbe2a5f7",
   "metadata": {},
   "outputs": [],
   "source": [
    "class StringFormatter:\n",
    "    @staticmethod\n",
    "    def reverse_string(s):\n",
    "        return s[::-1]"
   ]
  },
  {
   "cell_type": "code",
   "execution_count": 99,
   "id": "a10c0798",
   "metadata": {},
   "outputs": [
    {
     "data": {
      "text/plain": [
       "'esucxe'"
      ]
     },
     "execution_count": 99,
     "metadata": {},
     "output_type": "execute_result"
    }
   ],
   "source": [
    "StringFormatter.reverse_string(\"excuse\")"
   ]
  },
  {
   "cell_type": "markdown",
   "id": "e4758aa8",
   "metadata": {},
   "source": [
    "59. Create a Python class `Circle` with a class method `calculate_area` that calculates the area of a circle given its radius."
   ]
  },
  {
   "cell_type": "code",
   "execution_count": 100,
   "id": "fbc77a5e",
   "metadata": {},
   "outputs": [],
   "source": [
    "class Circle:\n",
    "    @classmethod\n",
    "    def calculate_area(cls, r):\n",
    "        return 3.14*r**2"
   ]
  },
  {
   "cell_type": "code",
   "execution_count": 101,
   "id": "4c858e00",
   "metadata": {},
   "outputs": [
    {
     "data": {
      "text/plain": [
       "314.0"
      ]
     },
     "execution_count": 101,
     "metadata": {},
     "output_type": "execute_result"
    }
   ],
   "source": [
    "Circle.calculate_area(10)"
   ]
  },
  {
   "cell_type": "markdown",
   "id": "28249fde",
   "metadata": {},
   "source": [
    "60. Create a Python class `TemperatureConverter` with a static method `celsius_to_fahrenheit` that converts Celsius to Fahrenheit."
   ]
  },
  {
   "cell_type": "code",
   "execution_count": 102,
   "id": "f33fd365",
   "metadata": {},
   "outputs": [],
   "source": [
    "class TemperatureConverter:\n",
    "    @staticmethod\n",
    "    def celsius_to_fahrenheit(cel_temp):\n",
    "        return ((cel_temp*9)/5)+32"
   ]
  },
  {
   "cell_type": "code",
   "execution_count": 103,
   "id": "27f03a9a",
   "metadata": {},
   "outputs": [
    {
     "data": {
      "text/plain": [
       "41.0"
      ]
     },
     "execution_count": 103,
     "metadata": {},
     "output_type": "execute_result"
    }
   ],
   "source": [
    "TemperatureConverter.celsius_to_fahrenheit(5)"
   ]
  },
  {
   "cell_type": "markdown",
   "id": "12b72972",
   "metadata": {},
   "source": [
    "61. What is the purpose of the __str__() method in Python classes? Provide an example."
   ]
  },
  {
   "cell_type": "markdown",
   "id": "932726ca",
   "metadata": {},
   "source": [
    "The str() method in Python classes is used to define the string representation of an object. When the str() function is called on an instance of a class, Python internally invokes the __str__() method of that class to obtain a string representation of the object. This string representation is typically human-readable and provides useful information about the object's state.\n",
    "\n",
    "The purpose of the str() method is to provide a standardized way to represent objects as strings, making it easier to display, print, or interact with them in string contexts."
   ]
  },
  {
   "cell_type": "code",
   "execution_count": 104,
   "id": "b3e093c3",
   "metadata": {},
   "outputs": [
    {
     "name": "stdout",
     "output_type": "stream",
     "text": [
      "Point(3, 4)\n"
     ]
    }
   ],
   "source": [
    "class Point:\n",
    "    def __init__(self, x, y):\n",
    "        self.x = x\n",
    "        self.y = y\n",
    "    def __str__(self):\n",
    "        return f\"Point({self.x}, {self.y})\"\n",
    "\n",
    "point = Point(3, 4)\n",
    "print(str(point))"
   ]
  },
  {
   "cell_type": "markdown",
   "id": "5d779baa",
   "metadata": {},
   "source": [
    "62. How does the __len__() method work in Python? Provide an example."
   ]
  },
  {
   "cell_type": "markdown",
   "id": "51c50ad2",
   "metadata": {},
   "source": [
    "In Python, the len() function is a built-in function that returns the length of a sequence or collection. It can be used to determine the number of elements in various data structures, such as strings, lists, tuples, dictionaries, and sets.\n",
    "\n",
    "Here's how the len() function works:\n",
    "\n",
    "For Sequences: For sequences (such as strings, lists, tuples), len() returns the number of elements in the sequence.\n",
    "\n",
    "For Collections: For collections (such as dictionaries and sets), len() returns the number of items in the collection.\n",
    "\n",
    "For Custom Objects: For custom objects, len() can be customized by implementing the __len__() special method in the class."
   ]
  },
  {
   "cell_type": "code",
   "execution_count": 105,
   "id": "aba347a6",
   "metadata": {},
   "outputs": [
    {
     "name": "stdout",
     "output_type": "stream",
     "text": [
      "13\n",
      "5\n",
      "5\n",
      "3\n",
      "5\n",
      "5\n"
     ]
    }
   ],
   "source": [
    "my_string = \"Harsh Agrawal\"\n",
    "print(len(my_string))\n",
    "\n",
    "my_list = [1, 2, 3, 4, 5]\n",
    "print(len(my_list))\n",
    "\n",
    "my_tuple = (10, 20, 30, 40, 50)\n",
    "print(len(my_tuple))\n",
    "\n",
    "my_dict = {'a': 1, 'b': 2, 'c': 3}\n",
    "print(len(my_dict))\n",
    "\n",
    "my_set = {1, 2, 3, 4, 5}\n",
    "print(len(my_set))\n",
    "\n",
    "class MyCustomClass:\n",
    "    def __init__(self, data):\n",
    "        self.data = data\n",
    "    def __len__(self):\n",
    "        return len(self.data)\n",
    "\n",
    "my_object = MyCustomClass([1, 2, 3, 4, 5])\n",
    "print(len(my_object))"
   ]
  },
  {
   "cell_type": "markdown",
   "id": "259a138a",
   "metadata": {},
   "source": [
    "63. Explain the usage of the __add__() method in Python classes. Provide an example."
   ]
  },
  {
   "cell_type": "markdown",
   "id": "28d5c12c",
   "metadata": {},
   "source": [
    "In Python, the add() method is not a built-in method for classes. However, it's common to implement an add() method in custom classes to define how objects of that class should behave when added together using the addition operator (+). This is achieved by implementing the special method __add__()."
   ]
  },
  {
   "cell_type": "code",
   "execution_count": 106,
   "id": "fdc6836f",
   "metadata": {},
   "outputs": [
    {
     "name": "stdout",
     "output_type": "stream",
     "text": [
      "Point(8, 10)\n"
     ]
    }
   ],
   "source": [
    "class Point:\n",
    "    def __init__(self, x, y):\n",
    "        self.x = x\n",
    "        self.y = y\n",
    "    def __add__(self, other):\n",
    "        if isinstance(other, Point):\n",
    "            return Point(self.x + other.x, self.y + other.y)\n",
    "        else:\n",
    "            raise TypeError(\"Unsupported operand type(s) for +: 'Point' and '{}'\".format(type(other).__name__))\n",
    "    def __str__(self):\n",
    "        return f\"Point({self.x}, {self.y})\"\n",
    "point1 = Point(3, 4)\n",
    "point2 = Point(5, 6)\n",
    "result = point1 + point2\n",
    "print(result)"
   ]
  },
  {
   "cell_type": "markdown",
   "id": "374c8806",
   "metadata": {},
   "source": [
    "64. What is the purpose of the __getitem__() method in Python? Provide an example."
   ]
  },
  {
   "cell_type": "markdown",
   "id": "c4bebe53",
   "metadata": {},
   "source": [
    "In Python, the __getitem__() method is a special method used to enable indexing and slicing on objects of a class. When an object is indexed or sliced using square brackets ([]), Python internally calls the __getitem__() method of that object to retrieve the specified item or slice.\n",
    "\n",
    "The purpose of the __getitem__() method is to provide a way to access elements or slices of an object as if it were a sequence or collection, even if the object is not inherently a sequence or collection."
   ]
  },
  {
   "cell_type": "code",
   "execution_count": 107,
   "id": "22c1db19",
   "metadata": {},
   "outputs": [
    {
     "name": "stdout",
     "output_type": "stream",
     "text": [
      "1\n",
      "3\n",
      "[2, 3, 4]\n",
      "[1, 2, 3]\n"
     ]
    }
   ],
   "source": [
    "class MyList:\n",
    "    def __init__(self, data):\n",
    "        self.data = data\n",
    "    def __getitem__(self, index):\n",
    "        return self.data[index]\n",
    "\n",
    "my_list = MyList([1, 2, 3, 4, 5])\n",
    "print(my_list[0])\n",
    "print(my_list[2])\n",
    "print(my_list[1:4])\n",
    "print(my_list[:3])"
   ]
  },
  {
   "cell_type": "markdown",
   "id": "a9b2193f",
   "metadata": {},
   "source": [
    "65. Explain the usage of the __iter__() and __next__() methods in Python. Provide an example using iterators."
   ]
  },
  {
   "cell_type": "markdown",
   "id": "e975d392",
   "metadata": {},
   "source": [
    "In Python, the iter() function and next() method are used together to work with iterators. An iterator is an object that represents a stream of data, allowing you to iterate over its elements one at a time. Iterators are commonly used with sequences like lists, tuples, and strings, but they can also be implemented for custom classes by defining the __iter__() and __next__() methods."
   ]
  },
  {
   "cell_type": "code",
   "execution_count": 108,
   "id": "6fd71851",
   "metadata": {},
   "outputs": [
    {
     "name": "stdout",
     "output_type": "stream",
     "text": [
      "1\n",
      "2\n",
      "3\n",
      "4\n",
      "5\n"
     ]
    }
   ],
   "source": [
    "my_list = [1, 2, 3, 4, 5]\n",
    "my_iterator = iter(my_list)\n",
    "print(next(my_iterator))\n",
    "print(next(my_iterator))\n",
    "print(next(my_iterator))\n",
    "for item in my_iterator:\n",
    "    print(item)"
   ]
  },
  {
   "cell_type": "markdown",
   "id": "97a6272d",
   "metadata": {},
   "source": [
    "66. What is the purpose of a getter method in Python? Provide an example demonstrating the use of a getter method using property decorators."
   ]
  },
  {
   "cell_type": "markdown",
   "id": "f8fba5df",
   "metadata": {},
   "source": [
    "In Python, a getter method is used to retrieve the value of a private or protected attribute of a class. It allows controlled access to the attribute, providing an interface for accessing the attribute's value while encapsulating its internal implementation. Getter methods are commonly used to enforce data encapsulation and to perform additional logic, such as validation or computation, when accessing attribute values.\n",
    "\n",
    "One common way to implement getter methods in Python is by using property decorators. Property decorators allow us to define getter, setter, and deleter methods for properties of a class, providing a more intuitive way to work with attributes."
   ]
  },
  {
   "cell_type": "code",
   "execution_count": 109,
   "id": "4384917f",
   "metadata": {},
   "outputs": [
    {
     "name": "stdout",
     "output_type": "stream",
     "text": [
      "Radius: 5\n",
      "Diameter: 10\n",
      "Area: 78.5\n"
     ]
    }
   ],
   "source": [
    "class Circle:\n",
    "    def __init__(self, radius):\n",
    "        self.__radius = radius\n",
    "    @property\n",
    "    def radius(self):\n",
    "        return self.__radius\n",
    "    @radius.setter\n",
    "    def radius(self, value):\n",
    "        if value <= 0:\n",
    "            raise ValueError(\"Radius must be positive\")\n",
    "        self.__radius = value\n",
    "    @property\n",
    "    def diameter(self):\n",
    "        return 2 * self.__radius\n",
    "    @property\n",
    "    def area(self):\n",
    "        return 3.14 * self.__radius ** 2\n",
    "\n",
    "circle = Circle(5)\n",
    "print(\"Radius:\", circle.radius)\n",
    "print(\"Diameter:\", circle.diameter)\n",
    "print(\"Area:\", circle.area)"
   ]
  },
  {
   "cell_type": "markdown",
   "id": "d98c228b",
   "metadata": {},
   "source": [
    "67. Explain the role of setter methods in Python. Demonstrate how to use a setter method to modify a class attribute using property decorators."
   ]
  },
  {
   "cell_type": "markdown",
   "id": "84c6d5da",
   "metadata": {},
   "source": [
    "In Python, setter methods are used to modify the value of a private or protected attribute of a class. They provide controlled access to the attribute, allowing validation or additional logic to be applied when setting its value. Setter methods are commonly used to enforce data integrity and maintain consistency in the state of objects.\n",
    "\n",
    "Setter methods are often implemented using property decorators in conjunction with getter methods. Property decorators allow us to define getter, setter, and deleter methods for properties of a class, providing a more intuitive and readable way to work with attributes."
   ]
  },
  {
   "cell_type": "code",
   "execution_count": 110,
   "id": "1e7978be",
   "metadata": {},
   "outputs": [
    {
     "name": "stdout",
     "output_type": "stream",
     "text": [
      "Width: 5\n",
      "Height: 10\n",
      "Modified Width: 8\n",
      "Modified Height: 12\n",
      "Area: 96\n"
     ]
    }
   ],
   "source": [
    "class Rectangle:\n",
    "    def __init__(self, width, height):\n",
    "        self.__width = width\n",
    "        self.__height = height\n",
    "    @property\n",
    "    def width(self):\n",
    "        return self.__width\n",
    "    @width.setter\n",
    "    def width(self, value):\n",
    "        if value <= 0:\n",
    "            raise ValueError(\"Width must be positive\")\n",
    "        self.__width = value\n",
    "    @property\n",
    "    def height(self):\n",
    "        return self.__height\n",
    "    @height.setter\n",
    "    def height(self, value):\n",
    "        if value <= 0:\n",
    "            raise ValueError(\"Height must be positive\")\n",
    "        self.__height = value\n",
    "    @property\n",
    "    def area(self):\n",
    "        return self.__width * self.__height\n",
    "\n",
    "rectangle = Rectangle(5, 10)\n",
    "print(\"Width:\", rectangle.width)\n",
    "print(\"Height:\", rectangle.height)\n",
    "rectangle.width = 8\n",
    "rectangle.height = 12\n",
    "print(\"Modified Width:\", rectangle.width)\n",
    "print(\"Modified Height:\", rectangle.height)\n",
    "print(\"Area:\", rectangle.area)"
   ]
  },
  {
   "cell_type": "markdown",
   "id": "657e4b22",
   "metadata": {},
   "source": [
    "68. What is the purpose of the @property decorator in Python? Provide an example illustrating its usage."
   ]
  },
  {
   "cell_type": "markdown",
   "id": "308584b8",
   "metadata": {},
   "source": [
    "In Python, the @property decorator is used to define properties for class attributes. It allows us to create attributes that act like normal instance variables but have custom getter, setter, and deleter methods associated with them. This allows for more controlled access to class attributes, enabling validation, computation, or additional logic to be applied when getting, setting, or deleting the attribute value.\n",
    "\n",
    "The @property decorator is often used in conjunction with getter, setter, and deleter methods to define properties. Getter methods are used to retrieve the value of the property, setter methods are used to modify the value of the property, and deleter methods are used to delete the property."
   ]
  },
  {
   "cell_type": "code",
   "execution_count": 111,
   "id": "3bc95b27",
   "metadata": {},
   "outputs": [
    {
     "name": "stdout",
     "output_type": "stream",
     "text": [
      "Radius: 5\n",
      "Diameter: 10\n",
      "Area: 78.5\n",
      "Modified Radius: 8\n",
      "Modified Diameter: 16\n",
      "Modified Area: 200.96\n"
     ]
    }
   ],
   "source": [
    "class Circle:\n",
    "    def __init__(self, radius):\n",
    "        self.__radius = radius\n",
    "    @property\n",
    "    def radius(self):\n",
    "        return self.__radius\n",
    "    @radius.setter\n",
    "    def radius(self, value):\n",
    "        if value <= 0:\n",
    "            raise ValueError(\"Radius must be positive\")\n",
    "        self.__radius = value\n",
    "    @property\n",
    "    def diameter(self):\n",
    "        return 2 * self.__radius\n",
    "    @property\n",
    "    def area(self):\n",
    "        return 3.14 * self.__radius ** 2\n",
    "\n",
    "circle = Circle(5)\n",
    "print(\"Radius:\", circle.radius)\n",
    "print(\"Diameter:\", circle.diameter)\n",
    "print(\"Area:\", circle.area)\n",
    "circle.radius = 8\n",
    "print(\"Modified Radius:\", circle.radius)\n",
    "print(\"Modified Diameter:\", circle.diameter)\n",
    "print(\"Modified Area:\", circle.area)"
   ]
  },
  {
   "cell_type": "markdown",
   "id": "2a63be65",
   "metadata": {},
   "source": [
    "69. Explain the use of the @deleter decorator in Python property decorators. Provide a code example demonstrating its application."
   ]
  },
  {
   "cell_type": "markdown",
   "id": "e8eea664",
   "metadata": {},
   "source": [
    "In Python, the @deleter decorator is used in conjunction with the @property decorator to define a deleter method for a property. The deleter method is responsible for deleting or removing the property from an object. This allows for custom cleanup or additional logic to be performed when the property is deleted."
   ]
  },
  {
   "cell_type": "code",
   "execution_count": 112,
   "id": "f1604646",
   "metadata": {},
   "outputs": [
    {
     "name": "stdout",
     "output_type": "stream",
     "text": [
      "Radius: 5\n",
      "Deleting the radius property\n"
     ]
    },
    {
     "ename": "AttributeError",
     "evalue": "'Circle' object has no attribute '_Circle__radius'",
     "output_type": "error",
     "traceback": [
      "\u001b[1;31m---------------------------------------------------------------------------\u001b[0m",
      "\u001b[1;31mAttributeError\u001b[0m                            Traceback (most recent call last)",
      "\u001b[1;32m~\\AppData\\Local\\Temp/ipykernel_19640/467750633.py\u001b[0m in \u001b[0;36m<module>\u001b[1;34m\u001b[0m\n\u001b[0;32m     18\u001b[0m \u001b[0mprint\u001b[0m\u001b[1;33m(\u001b[0m\u001b[1;34m\"Radius:\"\u001b[0m\u001b[1;33m,\u001b[0m \u001b[0mcircle\u001b[0m\u001b[1;33m.\u001b[0m\u001b[0mradius\u001b[0m\u001b[1;33m)\u001b[0m\u001b[1;33m\u001b[0m\u001b[1;33m\u001b[0m\u001b[0m\n\u001b[0;32m     19\u001b[0m \u001b[1;32mdel\u001b[0m \u001b[0mcircle\u001b[0m\u001b[1;33m.\u001b[0m\u001b[0mradius\u001b[0m\u001b[1;33m\u001b[0m\u001b[1;33m\u001b[0m\u001b[0m\n\u001b[1;32m---> 20\u001b[1;33m \u001b[0mprint\u001b[0m\u001b[1;33m(\u001b[0m\u001b[1;34m\"Radius:\"\u001b[0m\u001b[1;33m,\u001b[0m \u001b[0mcircle\u001b[0m\u001b[1;33m.\u001b[0m\u001b[0mradius\u001b[0m\u001b[1;33m)\u001b[0m\u001b[1;33m\u001b[0m\u001b[1;33m\u001b[0m\u001b[0m\n\u001b[0m",
      "\u001b[1;32m~\\AppData\\Local\\Temp/ipykernel_19640/467750633.py\u001b[0m in \u001b[0;36mradius\u001b[1;34m(self)\u001b[0m\n\u001b[0;32m      4\u001b[0m     \u001b[1;33m@\u001b[0m\u001b[0mproperty\u001b[0m\u001b[1;33m\u001b[0m\u001b[1;33m\u001b[0m\u001b[0m\n\u001b[0;32m      5\u001b[0m     \u001b[1;32mdef\u001b[0m \u001b[0mradius\u001b[0m\u001b[1;33m(\u001b[0m\u001b[0mself\u001b[0m\u001b[1;33m)\u001b[0m\u001b[1;33m:\u001b[0m\u001b[1;33m\u001b[0m\u001b[1;33m\u001b[0m\u001b[0m\n\u001b[1;32m----> 6\u001b[1;33m         \u001b[1;32mreturn\u001b[0m \u001b[0mself\u001b[0m\u001b[1;33m.\u001b[0m\u001b[0m__radius\u001b[0m\u001b[1;33m\u001b[0m\u001b[1;33m\u001b[0m\u001b[0m\n\u001b[0m\u001b[0;32m      7\u001b[0m     \u001b[1;33m@\u001b[0m\u001b[0mradius\u001b[0m\u001b[1;33m.\u001b[0m\u001b[0msetter\u001b[0m\u001b[1;33m\u001b[0m\u001b[1;33m\u001b[0m\u001b[0m\n\u001b[0;32m      8\u001b[0m     \u001b[1;32mdef\u001b[0m \u001b[0mradius\u001b[0m\u001b[1;33m(\u001b[0m\u001b[0mself\u001b[0m\u001b[1;33m,\u001b[0m \u001b[0mvalue\u001b[0m\u001b[1;33m)\u001b[0m\u001b[1;33m:\u001b[0m\u001b[1;33m\u001b[0m\u001b[1;33m\u001b[0m\u001b[0m\n",
      "\u001b[1;31mAttributeError\u001b[0m: 'Circle' object has no attribute '_Circle__radius'"
     ]
    }
   ],
   "source": [
    "class Circle:\n",
    "    def __init__(self, radius):\n",
    "        self.__radius = radius\n",
    "    @property\n",
    "    def radius(self):\n",
    "        return self.__radius\n",
    "    @radius.setter\n",
    "    def radius(self, value):\n",
    "        if value <= 0:\n",
    "            raise ValueError(\"Radius must be positive\")\n",
    "        self._radius = value\n",
    "    @radius.deleter\n",
    "    def radius(self):\n",
    "        print(\"Deleting the radius property\")\n",
    "        del self.__radius\n",
    "\n",
    "circle = Circle(5)\n",
    "print(\"Radius:\", circle.radius)\n",
    "del circle.radius\n",
    "print(\"Radius:\", circle.radius)"
   ]
  },
  {
   "cell_type": "markdown",
   "id": "ffa3c4a2",
   "metadata": {},
   "source": [
    "70. How does encapsulation relate to property decorators in Python? Provide an example showcasing encapsulation using property decorators."
   ]
  },
  {
   "cell_type": "markdown",
   "id": "40ed879d",
   "metadata": {},
   "source": [
    "Encapsulation is a fundamental concept in object-oriented programming (OOP) that involves bundling the data (attributes) and methods (functions) that operate on the data into a single unit called a class. Encapsulation allows for controlling the access to the data by providing getter and setter methods, thereby enforcing data hiding and abstraction.\n",
    "\n",
    "Property decorators in Python, such as @property, @property.setter, and @property.deleter, are often used to implement encapsulation. They allow us to define properties for class attributes, providing controlled access to the data and enabling validation, computation, or additional logic when getting, setting, or deleting the attribute values."
   ]
  },
  {
   "cell_type": "code",
   "execution_count": 113,
   "id": "1429e5f0",
   "metadata": {},
   "outputs": [
    {
     "name": "stdout",
     "output_type": "stream",
     "text": [
      "Radius: 5\n",
      "Area: 78.5\n",
      "Modified Radius: 8\n",
      "Modified Area: 200.96\n",
      "Error: Radius must be positive\n"
     ]
    }
   ],
   "source": [
    "class Circle:\n",
    "    def __init__(self, radius):\n",
    "        self.__radius = radius\n",
    "    @property\n",
    "    def radius(self):\n",
    "        return self.__radius\n",
    "    @radius.setter\n",
    "    def radius(self, value):\n",
    "        if value <= 0:\n",
    "            raise ValueError(\"Radius must be positive\")\n",
    "        self.__radius = value\n",
    "    @property\n",
    "    def area(self):\n",
    "        return 3.14 * self.__radius ** 2\n",
    "\n",
    "circle = Circle(5)\n",
    "print(\"Radius:\", circle.radius)\n",
    "print(\"Area:\", circle.area)\n",
    "circle.radius = 8\n",
    "print(\"Modified Radius:\", circle.radius)\n",
    "print(\"Modified Area:\", circle.area)\n",
    "try:\n",
    "    circle.radius = -3\n",
    "except ValueError as e:\n",
    "    print(\"Error:\", e)"
   ]
  }
 ],
 "metadata": {
  "kernelspec": {
   "display_name": "Python 3 (ipykernel)",
   "language": "python",
   "name": "python3"
  },
  "language_info": {
   "codemirror_mode": {
    "name": "ipython",
    "version": 3
   },
   "file_extension": ".py",
   "mimetype": "text/x-python",
   "name": "python",
   "nbconvert_exporter": "python",
   "pygments_lexer": "ipython3",
   "version": "3.9.7"
  }
 },
 "nbformat": 4,
 "nbformat_minor": 5
}
