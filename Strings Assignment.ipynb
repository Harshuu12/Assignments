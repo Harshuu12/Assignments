{
 "cells": [
  {
   "cell_type": "markdown",
   "id": "fa589a24",
   "metadata": {},
   "source": [
    "1. What is the purpose of the len() function in Python, and how can it be used with strings?"
   ]
  },
  {
   "cell_type": "markdown",
   "id": "ad58f02e",
   "metadata": {},
   "source": [
    "In Python, the len() function is used to determine the length or the number of elements in an object. It returns the number of items in a container, such as the number of characters in a string, the number of elements in a list, the number of key-value pairs in a dictionary, etc.\n",
    "\n",
    "When used with strings specifically, the len() function returns the number of characters in the string, including spaces, punctuation, and special characters. It does not count any leading or trailing whitespaces unless they are explicitly included in the string."
   ]
  },
  {
   "cell_type": "code",
   "execution_count": 1,
   "id": "bd0109a9",
   "metadata": {},
   "outputs": [
    {
     "name": "stdout",
     "output_type": "stream",
     "text": [
      "Length of the string: 19\n"
     ]
    }
   ],
   "source": [
    "my_string = \"Hello, How are you?\"\n",
    "string_length = len(my_string)\n",
    "print(\"Length of the string:\", string_length)"
   ]
  },
  {
   "cell_type": "markdown",
   "id": "009175e9",
   "metadata": {},
   "source": [
    "2. How can you concatenate two or more strings in Python, and can you provide an example of string concatenation?"
   ]
  },
  {
   "cell_type": "markdown",
   "id": "ac2ec95f",
   "metadata": {},
   "source": [
    "In Python, you can concatenate two or more strings using the + operator. String concatenation involves combining two or more strings into a single string."
   ]
  },
  {
   "cell_type": "code",
   "execution_count": 2,
   "id": "019e49f9",
   "metadata": {},
   "outputs": [
    {
     "name": "stdout",
     "output_type": "stream",
     "text": [
      "I am Harsh\n"
     ]
    }
   ],
   "source": [
    "str1 = \"I am\"\n",
    "str2 = \"Harsh\"\n",
    "concatenated_string = str1 + \" \" + str2\n",
    "print(concatenated_string)"
   ]
  },
  {
   "cell_type": "markdown",
   "id": "f9a4f67c",
   "metadata": {},
   "source": [
    " 3. What is string slicing in Python, and how can you extract a portion of a string using this method?"
   ]
  },
  {
   "cell_type": "markdown",
   "id": "9575611d",
   "metadata": {},
   "source": [
    "String slicing in Python refers to the technique of extracting a substring (a portion of a string) from a larger string. It allows you to create a new string by selecting a range of characters from the original string.\n",
    "\n",
    "Syntax:\n",
    "\n",
    "string[start:end:step]\n",
    "\n",
    "where\n",
    "\n",
    "start: The index indicating the starting position of the substring (inclusive).\n",
    "\n",
    "end: The index indicating the ending position of the substring (exclusive).\n",
    "\n",
    "step (optional): The step or interval at which characters are selected (default is 1)."
   ]
  },
  {
   "cell_type": "code",
   "execution_count": 3,
   "id": "7696bc5e",
   "metadata": {},
   "outputs": [
    {
     "data": {
      "text/plain": [
       "'Harsh '"
      ]
     },
     "execution_count": 3,
     "metadata": {},
     "output_type": "execute_result"
    }
   ],
   "source": [
    "my_string = \"I am Harsh Agrawal\"\n",
    "substring = my_string[5:11]\n",
    "substring"
   ]
  },
  {
   "cell_type": "markdown",
   "id": "95c8fbd7",
   "metadata": {},
   "source": [
    "4. How can you change the case of a string in Python, and can you provide examples of both making a string all uppercase and all lowercase?"
   ]
  },
  {
   "cell_type": "markdown",
   "id": "865f6926",
   "metadata": {},
   "source": [
    "In Python, you can change the case of a string using built-in string methods: upper() and lower(). These methods return a new string with the case changed according to the specified operation.\n",
    "\n",
    "upper(): Return a copy of the string converted to uppercase.\n",
    "\n",
    "lower(): Return a copy of the string converted to lowercase."
   ]
  },
  {
   "cell_type": "code",
   "execution_count": 4,
   "id": "95d288ce",
   "metadata": {},
   "outputs": [
    {
     "data": {
      "text/plain": [
       "'HARSH AGRAWAL'"
      ]
     },
     "execution_count": 4,
     "metadata": {},
     "output_type": "execute_result"
    }
   ],
   "source": [
    "original_string = \"Harsh Agrawal\"\n",
    "uppercase_string = original_string.upper()\n",
    "uppercase_string"
   ]
  },
  {
   "cell_type": "code",
   "execution_count": 5,
   "id": "cd076999",
   "metadata": {},
   "outputs": [
    {
     "data": {
      "text/plain": [
       "'harsh agrawal'"
      ]
     },
     "execution_count": 5,
     "metadata": {},
     "output_type": "execute_result"
    }
   ],
   "source": [
    "original_string = \"Harsh Agrawal\"\n",
    "lowercase_string = original_string.lower()\n",
    "lowercase_string"
   ]
  },
  {
   "cell_type": "markdown",
   "id": "31aa8e3c",
   "metadata": {},
   "source": [
    "5. What does the split() method do in Python, and how can you split a string using a specific delimiter?"
   ]
  },
  {
   "cell_type": "markdown",
   "id": "48a67f7c",
   "metadata": {},
   "source": [
    "In Python, the split() method is used to split a string into a list of substrings based on a specified delimiter. By default, the split() method splits the string using whitespace (spaces, tabs, newlines) as the delimiter, but you can specify a custom delimiter as well."
   ]
  },
  {
   "cell_type": "code",
   "execution_count": 6,
   "id": "702bce66",
   "metadata": {},
   "outputs": [
    {
     "data": {
      "text/plain": [
       "['I', 'am,', 'Harsh,', 'Agrawal']"
      ]
     },
     "execution_count": 6,
     "metadata": {},
     "output_type": "execute_result"
    }
   ],
   "source": [
    "my_string = \"I am, Harsh, Agrawal\"\n",
    "my_string.split()"
   ]
  },
  {
   "cell_type": "code",
   "execution_count": 7,
   "id": "79fae9bf",
   "metadata": {},
   "outputs": [
    {
     "data": {
      "text/plain": [
       "['I am', ' Harsh', ' Agrawal']"
      ]
     },
     "execution_count": 7,
     "metadata": {},
     "output_type": "execute_result"
    }
   ],
   "source": [
    "my_string = \"I am, Harsh, Agrawal\"\n",
    "my_string.split(',')"
   ]
  }
 ],
 "metadata": {
  "kernelspec": {
   "display_name": "Python 3 (ipykernel)",
   "language": "python",
   "name": "python3"
  },
  "language_info": {
   "codemirror_mode": {
    "name": "ipython",
    "version": 3
   },
   "file_extension": ".py",
   "mimetype": "text/x-python",
   "name": "python",
   "nbconvert_exporter": "python",
   "pygments_lexer": "ipython3",
   "version": "3.9.7"
  }
 },
 "nbformat": 4,
 "nbformat_minor": 5
}
